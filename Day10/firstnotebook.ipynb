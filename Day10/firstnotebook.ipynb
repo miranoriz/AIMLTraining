{
 "cells": [
  {
   "cell_type": "markdown",
   "id": "2c30bf2f-96f1-4d33-b1f5-f659ac2c0705",
   "metadata": {},
   "source": [
    "#Welcome to Jupyter\n",
    "##Step to print a single line\n",
    "   we will create cell\n",
    "   we will print command\n",
    "   we will run the cell\n",
    "   "
   ]
  },
  {
   "cell_type": "code",
   "execution_count": 1,
   "id": "03cc1267-c479-49cc-a619-d8dd47f96d21",
   "metadata": {},
   "outputs": [
    {
     "name": "stdout",
     "output_type": "stream",
     "text": [
      "Welcome to Jupyter notebook\n"
     ]
    }
   ],
   "source": [
    "print(\"Welcome to Jupyter notebook\")"
   ]
  },
  {
   "cell_type": "markdown",
   "id": "805cbe59-512b-4cfa-a7b2-18d6832d3d88",
   "metadata": {},
   "source": [
    "#for loop example"
   ]
  },
  {
   "cell_type": "code",
   "execution_count": 2,
   "id": "fbcc71b4-5b11-4f85-bf0f-9e7a0d5149ae",
   "metadata": {},
   "outputs": [
    {
     "name": "stdout",
     "output_type": "stream",
     "text": [
      "1\t2\t3\t4\t5\t6\t7\t8\t9\t10\t11\t12\t13\t14\t15\t16\t17\t18\t19\t20\t21\t22\t23\t24\t25\t26\t27\t28\t29\t30\t31\t32\t33\t34\t35\t36\t37\t38\t39\t40\t41\t42\t43\t44\t45\t46\t47\t48\t49\t50\t51\t52\t53\t54\t55\t56\t57\t58\t59\t60\t61\t62\t63\t64\t65\t66\t67\t68\t69\t70\t71\t72\t73\t74\t75\t76\t77\t78\t79\t80\t81\t82\t83\t84\t85\t86\t87\t88\t89\t90\t91\t92\t93\t94\t95\t96\t97\t98\t99\t"
     ]
    }
   ],
   "source": [
    "for num in range (1,100):\n",
    "    print (num, end=\"\\t\")"
   ]
  },
  {
   "cell_type": "code",
   "execution_count": 15,
   "id": "7f476221-3011-4ea8-b375-b09aea4a2793",
   "metadata": {},
   "outputs": [],
   "source": [
    "players = (\"mira\",\"azira\",\"izzat\",\"siti\",\"ayam\")"
   ]
  },
  {
   "cell_type": "code",
   "execution_count": 16,
   "id": "c6aaeec3-5d29-4fd6-8f49-ebb20d395e0d",
   "metadata": {},
   "outputs": [
    {
     "name": "stdout",
     "output_type": "stream",
     "text": [
      "mira\n",
      "azira\n",
      "izzat\n",
      "siti\n",
      "ayam\n"
     ]
    }
   ],
   "source": [
    "for player in players:\n",
    "    print (player)\n",
    "    "
   ]
  },
  {
   "cell_type": "code",
   "execution_count": 17,
   "id": "f2d632c2-cea1-4f23-8b13-7a84d6ece2d5",
   "metadata": {},
   "outputs": [
    {
     "name": "stdout",
     "output_type": "stream",
     "text": [
      "welcome\n"
     ]
    }
   ],
   "source": [
    "print(\"welcome\")"
   ]
  },
  {
   "cell_type": "code",
   "execution_count": 18,
   "id": "4160999b-eb80-4a70-b894-3e62ac8dae3f",
   "metadata": {},
   "outputs": [
    {
     "name": "stdout",
     "output_type": "stream",
     "text": [
      "welcome again\n",
      "one more thing\n"
     ]
    }
   ],
   "source": [
    "print(\"welcome again\")\n",
    "print(\"one more thing\")"
   ]
  }
 ],
 "metadata": {
  "kernelspec": {
   "display_name": "Python [conda env:base] *",
   "language": "python",
   "name": "conda-base-py"
  },
  "language_info": {
   "codemirror_mode": {
    "name": "ipython",
    "version": 3
   },
   "file_extension": ".py",
   "mimetype": "text/x-python",
   "name": "python",
   "nbconvert_exporter": "python",
   "pygments_lexer": "ipython3",
   "version": "3.13.5"
  }
 },
 "nbformat": 4,
 "nbformat_minor": 5
}
