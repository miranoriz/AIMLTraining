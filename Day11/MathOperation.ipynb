{
 "cells": [
  {
   "cell_type": "markdown",
   "id": "e4f99b48-b2f1-4601-ba5c-5dc222fb18c6",
   "metadata": {},
   "source": [
    "### Mathematical Operation for 1D array"
   ]
  },
  {
   "cell_type": "code",
   "execution_count": 33,
   "id": "143ab73e-a946-4cf4-b6af-3fa11652d99b",
   "metadata": {},
   "outputs": [],
   "source": [
    "import numpy as np"
   ]
  },
  {
   "cell_type": "code",
   "execution_count": 34,
   "id": "eee0dae4-6f8f-4f0f-aa5d-b488c3c515be",
   "metadata": {},
   "outputs": [],
   "source": [
    "our_arr = np.array([900,200,300,100,800,600,700,850])"
   ]
  },
  {
   "cell_type": "code",
   "execution_count": 35,
   "id": "91e700f4-65e9-4d34-88d6-39cb8cc75c85",
   "metadata": {},
   "outputs": [
    {
     "name": "stdout",
     "output_type": "stream",
     "text": [
      "[900 200 300 100 800 600 700 850]\n"
     ]
    }
   ],
   "source": [
    "print(our_arr)"
   ]
  },
  {
   "cell_type": "code",
   "execution_count": 36,
   "id": "2136a3b3-c0c2-4873-ad46-b36e8e0af53d",
   "metadata": {},
   "outputs": [
    {
     "name": "stdout",
     "output_type": "stream",
     "text": [
      "4450\n"
     ]
    }
   ],
   "source": [
    "# Sum\n",
    "print (np.sum(our_arr))"
   ]
  },
  {
   "cell_type": "code",
   "execution_count": 37,
   "id": "c8acae94-4aaf-403e-b760-5b24b80dffd7",
   "metadata": {},
   "outputs": [
    {
     "name": "stdout",
     "output_type": "stream",
     "text": [
      "556.25\n"
     ]
    }
   ],
   "source": [
    "# Mean value\n",
    "print(np.mean(our_arr))"
   ]
  },
  {
   "cell_type": "code",
   "execution_count": 38,
   "id": "0cf2d72a-c468-406f-8739-d7da06ede236",
   "metadata": {},
   "outputs": [
    {
     "name": "stdout",
     "output_type": "stream",
     "text": [
      "100\n"
     ]
    }
   ],
   "source": [
    "# Minimum value\n",
    "print(np.min(our_arr))"
   ]
  },
  {
   "cell_type": "code",
   "execution_count": 39,
   "id": "d042240c-4ca3-4cc8-9eb0-3d36dcfd5dfc",
   "metadata": {},
   "outputs": [
    {
     "name": "stdout",
     "output_type": "stream",
     "text": [
      "900\n"
     ]
    }
   ],
   "source": [
    "# Maximum value\n",
    "print(np.max(our_arr))"
   ]
  },
  {
   "cell_type": "code",
   "execution_count": 40,
   "id": "858e8602-6599-410c-b1b0-4acff213b216",
   "metadata": {},
   "outputs": [
    {
     "name": "stdout",
     "output_type": "stream",
     "text": [
      "3\n"
     ]
    }
   ],
   "source": [
    "# Index of min\n",
    "print(np.argmin(our_arr))"
   ]
  },
  {
   "cell_type": "code",
   "execution_count": 41,
   "id": "35d3c63e-fc07-48f1-a450-f734db8ba2bf",
   "metadata": {},
   "outputs": [
    {
     "name": "stdout",
     "output_type": "stream",
     "text": [
      "0\n"
     ]
    }
   ],
   "source": [
    "# Index of max\n",
    "print(np.argmax(our_arr))"
   ]
  },
  {
   "cell_type": "markdown",
   "id": "f567e5b4-fe3d-4f56-b3b9-360b155f4a30",
   "metadata": {},
   "source": [
    "##### Sort"
   ]
  },
  {
   "cell_type": "code",
   "execution_count": 42,
   "id": "dc60f2e3-85e4-4603-81e5-49a6340a6c8c",
   "metadata": {},
   "outputs": [
    {
     "name": "stdout",
     "output_type": "stream",
     "text": [
      "[100 200 300 600 700 800 850 900]\n"
     ]
    }
   ],
   "source": [
    "sorted_arr = np.sort(our_arr)\n",
    "print(sorted_arr)"
   ]
  },
  {
   "cell_type": "code",
   "execution_count": 43,
   "id": "001e79b5-a74f-4cb5-9b75-86bb9dac97fc",
   "metadata": {},
   "outputs": [
    {
     "name": "stdout",
     "output_type": "stream",
     "text": [
      "True\n"
     ]
    }
   ],
   "source": [
    "# Is there any item over 500\n",
    "print(np.any(sorted_arr>500))"
   ]
  },
  {
   "cell_type": "code",
   "execution_count": 44,
   "id": "acc38473-871e-4085-a8a4-36fe755ef47c",
   "metadata": {},
   "outputs": [
    {
     "name": "stdout",
     "output_type": "stream",
     "text": [
      "False\n"
     ]
    }
   ],
   "source": [
    "# Is all item over 500\n",
    "print(np.all(sorted_arr>500))"
   ]
  },
  {
   "cell_type": "code",
   "execution_count": 45,
   "id": "1f96121c-f4c1-4973-b317-d58a1b346d79",
   "metadata": {},
   "outputs": [
    {
     "name": "stdout",
     "output_type": "stream",
     "text": [
      "True\n"
     ]
    }
   ],
   "source": [
    "# Is all item over 99\n",
    "print(np.any(sorted_arr>99))"
   ]
  },
  {
   "cell_type": "code",
   "execution_count": 46,
   "id": "b7366f46-524e-4576-ade3-aabae340ee7a",
   "metadata": {},
   "outputs": [
    {
     "name": "stdout",
     "output_type": "stream",
     "text": [
      "(array([3, 4, 5, 6, 7]),)\n"
     ]
    }
   ],
   "source": [
    "# Where value > 500\n",
    "print(np.where(sorted_arr>500))"
   ]
  },
  {
   "cell_type": "code",
   "execution_count": 56,
   "id": "af02ce07-79c1-401a-a025-dc4d9d05fad0",
   "metadata": {},
   "outputs": [
    {
     "name": "stdout",
     "output_type": "stream",
     "text": [
      "[3 4 5 6 7]\n"
     ]
    }
   ],
   "source": [
    "# Print all index where number is greater than 500\n",
    "for num in np.where(sorted_arr>500):\n",
    "    print(num)"
   ]
  },
  {
   "cell_type": "code",
   "execution_count": 62,
   "id": "62d80c87-df91-4e5d-b01f-ff151e9df58f",
   "metadata": {},
   "outputs": [
    {
     "name": "stdout",
     "output_type": "stream",
     "text": [
      "600\n",
      "700\n",
      "800\n",
      "850\n",
      "900\n"
     ]
    }
   ],
   "source": [
    "# Print all number that is greater than 500 in sorted array\n",
    "for num in (sorted_arr[sorted_arr>500]):\n",
    "    print(num)"
   ]
  },
  {
   "cell_type": "code",
   "execution_count": 75,
   "id": "77804fb3-7e03-4869-8329-906423206daa",
   "metadata": {},
   "outputs": [
    {
     "name": "stdout",
     "output_type": "stream",
     "text": [
      "900\n",
      "800\n",
      "600\n",
      "700\n",
      "850\n"
     ]
    }
   ],
   "source": [
    "# Print all number that is greater than 500 in original array \n",
    "for num in our_arr[our_arr>500]:\n",
    "    print(num)"
   ]
  },
  {
   "cell_type": "markdown",
   "id": "25e452e8-a4d2-4403-a34f-9acde4413f9b",
   "metadata": {},
   "source": [
    "##### Slice"
   ]
  },
  {
   "cell_type": "code",
   "execution_count": 89,
   "id": "0e8440f4-fe61-4dd3-b3d4-a0ec0e10b295",
   "metadata": {},
   "outputs": [
    {
     "name": "stdout",
     "output_type": "stream",
     "text": [
      "[900 200]\n"
     ]
    }
   ],
   "source": [
    "#slice array[start:last]\n",
    "print(our_arr[0:2])"
   ]
  },
  {
   "cell_type": "code",
   "execution_count": 72,
   "id": "521a901f-4ef8-489f-b9b4-262ec6aece1b",
   "metadata": {},
   "outputs": [
    {
     "name": "stdout",
     "output_type": "stream",
     "text": [
      "[300 100 800 600 700 850]\n"
     ]
    }
   ],
   "source": [
    "#slice array[start:empty] <- start index to last index\n",
    "print(our_arr[2:])"
   ]
  },
  {
   "cell_type": "code",
   "execution_count": 92,
   "id": "47c28926-e7c5-47fd-9bf3-8051e56dc104",
   "metadata": {},
   "outputs": [
    {
     "name": "stdout",
     "output_type": "stream",
     "text": [
      "[100 200]\n"
     ]
    }
   ],
   "source": [
    "#slice array[empty:last] <- show all item before particular index\n",
    "print(sorted_arr[:2])"
   ]
  },
  {
   "cell_type": "markdown",
   "id": "0ab03347-5f77-4d0e-9369-fda29c3717c8",
   "metadata": {},
   "source": [
    "##### Step"
   ]
  },
  {
   "cell_type": "code",
   "execution_count": 91,
   "id": "ab512eb9-1055-4d65-b781-cc83301c5582",
   "metadata": {},
   "outputs": [
    {
     "name": "stdout",
     "output_type": "stream",
     "text": [
      "[100 200 300 600 700 800 850 900]\n"
     ]
    }
   ],
   "source": [
    "#Step = how much to move between each number.[start:end:Step]\n",
    "print(sorted_arr)"
   ]
  },
  {
   "cell_type": "code",
   "execution_count": 88,
   "id": "1c6d1e7a-c56d-4621-ad44-655207600fa2",
   "metadata": {},
   "outputs": [
    {
     "name": "stdout",
     "output_type": "stream",
     "text": [
      "[200 600 800]\n"
     ]
    }
   ],
   "source": [
    "our_slice = sorted_arr[1:6:2] # take every 2nd element from index 1 to 6\n",
    "print(our_slice)"
   ]
  },
  {
   "cell_type": "code",
   "execution_count": 86,
   "id": "c588b147-ddf0-4544-b312-33e594f12b5b",
   "metadata": {},
   "outputs": [
    {
     "name": "stdout",
     "output_type": "stream",
     "text": [
      "[100 600 850]\n"
     ]
    }
   ],
   "source": [
    "every_third_element = sorted_arr[: :3] # Every 3rd number\n",
    "print(every_third_element)"
   ]
  },
  {
   "cell_type": "markdown",
   "id": "f3e16486-1ac9-43f9-8a70-d6ba0749ce8b",
   "metadata": {},
   "source": [
    "Slice Reverse"
   ]
  },
  {
   "cell_type": "code",
   "execution_count": 102,
   "id": "c8b2d93c-04de-426d-be75-72314885cbde",
   "metadata": {},
   "outputs": [
    {
     "name": "stdout",
     "output_type": "stream",
     "text": [
      "Original Array [100 200 300 600 700 800 850 900]\n",
      "New Array [900 850 800 700 600 300 200 100]\n"
     ]
    }
   ],
   "source": [
    "#slice reverse\n",
    "print(f\"Original Array {sorted_arr}\")\n",
    "print(f\"New Array {sorted_arr[: :-1]}\")"
   ]
  },
  {
   "cell_type": "code",
   "execution_count": 103,
   "id": "a8896cad-bf69-4dcd-b368-dc0242b9cb6d",
   "metadata": {},
   "outputs": [
    {
     "name": "stdout",
     "output_type": "stream",
     "text": [
      "[600 700 800 850 900]\n"
     ]
    }
   ],
   "source": [
    "# Last 5 element\n",
    "print(sorted_arr[-5:])"
   ]
  },
  {
   "cell_type": "code",
   "execution_count": 122,
   "id": "01ed00e9-c773-4a9a-936e-388ee924a6f7",
   "metadata": {},
   "outputs": [
    {
     "name": "stdout",
     "output_type": "stream",
     "text": [
      "Original Array [900 200 300 100 800 600 700 850]\n",
      "Original arrray in reverse [850 700 600 800 100 300 200 900]\n",
      "Sort Ascending [100 200 300 600 700 800 850 900]\n",
      "Sort Descending [900 850 800 700 600 300 200 100]\n"
     ]
    }
   ],
   "source": [
    "#sort reverse\n",
    "print(f\"Original Array {our_arr}\")\n",
    "print(f\"Original arrray in reverse {our_arr[::-1]}\") \n",
    "print(f\"Sort Ascending {np.sort(our_arr)}\") #sort ascending\n",
    "print(f\"Sort Descending {np.sort(our_arr)[::-1]}\")  #sort descending"
   ]
  }
 ],
 "metadata": {
  "kernelspec": {
   "display_name": "Python [conda env:base] *",
   "language": "python",
   "name": "conda-base-py"
  },
  "language_info": {
   "codemirror_mode": {
    "name": "ipython",
    "version": 3
   },
   "file_extension": ".py",
   "mimetype": "text/x-python",
   "name": "python",
   "nbconvert_exporter": "python",
   "pygments_lexer": "ipython3",
   "version": "3.13.5"
  }
 },
 "nbformat": 4,
 "nbformat_minor": 5
}
