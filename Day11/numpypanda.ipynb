{
 "cells": [
  {
   "cell_type": "code",
   "execution_count": 1,
   "id": "3bf45905-1cde-43c2-9eaa-1e1993787366",
   "metadata": {},
   "outputs": [],
   "source": [
    "import pandas as pd\n",
    "import numpy as np"
   ]
  },
  {
   "cell_type": "code",
   "execution_count": 2,
   "id": "f539525c-a4a1-4d99-8f3f-5c6fcc18d6a3",
   "metadata": {},
   "outputs": [
    {
     "data": {
      "text/html": [
       "<div>\n",
       "<style scoped>\n",
       "    .dataframe tbody tr th:only-of-type {\n",
       "        vertical-align: middle;\n",
       "    }\n",
       "\n",
       "    .dataframe tbody tr th {\n",
       "        vertical-align: top;\n",
       "    }\n",
       "\n",
       "    .dataframe thead th {\n",
       "        text-align: right;\n",
       "    }\n",
       "</style>\n",
       "<table border=\"1\" class=\"dataframe\">\n",
       "  <thead>\n",
       "    <tr style=\"text-align: right;\">\n",
       "      <th></th>\n",
       "      <th>Name</th>\n",
       "      <th>Age</th>\n",
       "      <th>Marks</th>\n",
       "    </tr>\n",
       "  </thead>\n",
       "  <tbody>\n",
       "    <tr>\n",
       "      <th>0</th>\n",
       "      <td>John</td>\n",
       "      <td>20</td>\n",
       "      <td>85</td>\n",
       "    </tr>\n",
       "    <tr>\n",
       "      <th>1</th>\n",
       "      <td>Alice</td>\n",
       "      <td>22</td>\n",
       "      <td>90</td>\n",
       "    </tr>\n",
       "    <tr>\n",
       "      <th>2</th>\n",
       "      <td>Bob</td>\n",
       "      <td>21</td>\n",
       "      <td>78</td>\n",
       "    </tr>\n",
       "    <tr>\n",
       "      <th>3</th>\n",
       "      <td>Sara</td>\n",
       "      <td>23</td>\n",
       "      <td>92</td>\n",
       "    </tr>\n",
       "    <tr>\n",
       "      <th>4</th>\n",
       "      <td>maya</td>\n",
       "      <td>34</td>\n",
       "      <td>34</td>\n",
       "    </tr>\n",
       "  </tbody>\n",
       "</table>\n",
       "</div>"
      ],
      "text/plain": [
       "    Name  Age  Marks\n",
       "0   John   20     85\n",
       "1  Alice   22     90\n",
       "2    Bob   21     78\n",
       "3   Sara   23     92\n",
       "4   maya   34     34"
      ]
     },
     "execution_count": 2,
     "metadata": {},
     "output_type": "execute_result"
    }
   ],
   "source": [
    "df = pd.read_excel(\"students.xlsx\")\n",
    "df"
   ]
  },
  {
   "cell_type": "code",
   "execution_count": 4,
   "id": "00cf1ae8-d974-4a94-8f67-3e5cb4ec7f99",
   "metadata": {},
   "outputs": [
    {
     "name": "stdout",
     "output_type": "stream",
     "text": [
      "Numpy array of marks\n",
      "[85 90 78 92 34]\n"
     ]
    }
   ],
   "source": [
    "marks = df['Marks'].to_numpy()\n",
    "print(\"Numpy array of marks\")\n",
    "print(marks)"
   ]
  },
  {
   "cell_type": "code",
   "execution_count": 6,
   "id": "3a891dfb-a790-46ac-89eb-2d4f318b04fe",
   "metadata": {},
   "outputs": [
    {
     "name": "stdout",
     "output_type": "stream",
     "text": [
      "Highest mark:  92\n"
     ]
    }
   ],
   "source": [
    "print(\"Highest mark: \", np.max(marks))"
   ]
  },
  {
   "cell_type": "code",
   "execution_count": 7,
   "id": "9c91be64-28f3-4b76-a7fc-ad1089148ca2",
   "metadata": {},
   "outputs": [
    {
     "name": "stdout",
     "output_type": "stream",
     "text": [
      "Lowest mark:  34\n"
     ]
    }
   ],
   "source": [
    "print(\"Lowest mark: \", np.min(marks))"
   ]
  },
  {
   "cell_type": "code",
   "execution_count": 8,
   "id": "4608ccd3-c300-4354-99de-003e1fdac6b8",
   "metadata": {},
   "outputs": [
    {
     "name": "stdout",
     "output_type": "stream",
     "text": [
      "Average mark:  75.8\n"
     ]
    }
   ],
   "source": [
    "print(\"Average mark: \", np.mean(marks))"
   ]
  },
  {
   "cell_type": "markdown",
   "id": "34772676-eb4e-4578-9bc8-5bf4d774406b",
   "metadata": {},
   "source": [
    "#### Location\n",
    "      .loc : label based\n",
    "      .iloc : index based"
   ]
  },
  {
   "cell_type": "code",
   "execution_count": 26,
   "id": "85fed087-4e0b-4127-beea-2528d2adfc59",
   "metadata": {},
   "outputs": [
    {
     "name": "stdout",
     "output_type": "stream",
     "text": [
      "Original Dataframe\n",
      "    Name  Age  Marks\n",
      "0   John   20     85\n",
      "1  Alice   22     90\n",
      "2    Bob   21     78\n",
      "3   Sara   23     92\n",
      "4   maya   34     34\n",
      "\n",
      "Location: Label Based\n",
      "Name     Bob\n",
      "Marks     78\n",
      "Name: 2, dtype: object\n"
     ]
    }
   ],
   "source": [
    "print ('Original Dataframe')\n",
    "print(df)\n",
    "print ('\\nLocation: Label Based')\n",
    "print (df.loc[2,['Name','Marks']])"
   ]
  },
  {
   "cell_type": "code",
   "execution_count": 22,
   "id": "58235a56-6cbd-4cb0-a7bd-4d9ccfbfbe0f",
   "metadata": {},
   "outputs": [
    {
     "name": "stdout",
     "output_type": "stream",
     "text": [
      "Original Dataframe\n",
      "    Name  Age  Marks\n",
      "0   John   20     85\n",
      "1  Alice   22     90\n",
      "2    Bob   21     78\n",
      "3   Sara   23     92\n",
      "4   maya   34     34\n",
      "\n",
      "Location: Label Based\n",
      "Bob\n"
     ]
    }
   ],
   "source": [
    "print ('Original Dataframe')\n",
    "print(df)\n",
    "print ('\\nLocation: Label Based')\n",
    "print (df.loc[2,'Name'])"
   ]
  },
  {
   "cell_type": "code",
   "execution_count": 35,
   "id": "881ff11a-d88c-40fd-9d0f-e896a8ebfce0",
   "metadata": {},
   "outputs": [
    {
     "name": "stdout",
     "output_type": "stream",
     "text": [
      "Original Dataframe\n",
      "    Name  Age  Marks\n",
      "0   John   20     85\n",
      "1  Alice   22     90\n",
      "2    Bob   21     78\n",
      "3   Sara   23     92\n",
      "4   maya   34     34\n",
      "\n",
      "Location: Label Based\n",
      "Name    Bob\n",
      "Name: 2, dtype: object\n"
     ]
    }
   ],
   "source": [
    "print ('Original Dataframe')\n",
    "print(df)\n",
    "print ('\\nLocation: Label Based')\n",
    "print (df.loc[2,['Name']])"
   ]
  },
  {
   "cell_type": "code",
   "execution_count": 15,
   "id": "63eebd55-2f66-47a5-be81-77778f631dba",
   "metadata": {},
   "outputs": [
    {
     "name": "stdout",
     "output_type": "stream",
     "text": [
      "Original Dataframe\n",
      "    Name  Age  Marks\n",
      "0   John   20     85\n",
      "1  Alice   22     90\n",
      "2    Bob   21     78\n",
      "3   Sara   23     92\n",
      "4   maya   34     34\n",
      "\n",
      "Location: Index Based\n",
      "Name     maya\n",
      "Age        34\n",
      "Marks      34\n",
      "Name: 4, dtype: object\n"
     ]
    }
   ],
   "source": [
    "print ('Original Dataframe')\n",
    "print(df)\n",
    "print ('\\nLocation: Index Based')\n",
    "print (df.iloc[4])"
   ]
  },
  {
   "cell_type": "code",
   "execution_count": 37,
   "id": "711cdd30-f3a5-4f79-83a6-d2ec7f8371ba",
   "metadata": {},
   "outputs": [
    {
     "name": "stdout",
     "output_type": "stream",
     "text": [
      "Original Dataframe\n",
      "    Name  Age  Marks\n",
      "0   John   20     85\n",
      "1  Alice   22     90\n",
      "2    Bob   21     78\n",
      "3   Sara   23     92\n",
      "4   maya   34     34\n",
      "\n",
      "Location: Index Based\n",
      "Age      34\n",
      "Marks    34\n",
      "Name: 4, dtype: object\n"
     ]
    }
   ],
   "source": [
    "print ('Original Dataframe')\n",
    "print(df)\n",
    "print ('\\nLocation: Index Based')\n",
    "print (df.iloc[4, [1,2]])"
   ]
  },
  {
   "cell_type": "markdown",
   "id": "5673e0d0-e31e-481f-ba24-a12fbecd20bb",
   "metadata": {},
   "source": [
    "#### Axis is Numpy:\n",
    "      1. Axis 0 - Vertical Direction , Column-Wise\n",
    "      2. Axis 1 - Horizontal Direction, Row-Wise"
   ]
  },
  {
   "cell_type": "markdown",
   "id": "75f30bd5-c9b4-44e8-ad96-f1bff9cd76f9",
   "metadata": {},
   "source": [
    "#### Example 1\n",
    "    We have 2 students mark in 3 subject\n",
    "    [[45,50,59],[30,45,49]] "
   ]
  },
  {
   "cell_type": "code",
   "execution_count": 40,
   "id": "588b3156-e673-4a69-9853-b332d3bfe431",
   "metadata": {},
   "outputs": [
    {
     "name": "stdout",
     "output_type": "stream",
     "text": [
      "[[45 50 59]\n",
      " [30 45 49]]\n"
     ]
    }
   ],
   "source": [
    "mark_Array = np.array([[45,50,59],[30,45,49]])\n",
    "print(mark_Array)"
   ]
  },
  {
   "cell_type": "code",
   "execution_count": 46,
   "id": "2029adb5-8bdb-4222-8cd8-b7cd8c7a65e1",
   "metadata": {},
   "outputs": [
    {
     "name": "stdout",
     "output_type": "stream",
     "text": [
      "278\n"
     ]
    }
   ],
   "source": [
    "#Sum of all value\n",
    "print(np.sum(mark_Array))"
   ]
  },
  {
   "cell_type": "code",
   "execution_count": 45,
   "id": "199906bd-b12d-4a7e-b874-1958d1cc1ebd",
   "metadata": {},
   "outputs": [
    {
     "name": "stdout",
     "output_type": "stream",
     "text": [
      "[ 75  95 108]\n"
     ]
    }
   ],
   "source": [
    "#sum down of each column\n",
    "print(np.sum(mark_Array,axis=0))"
   ]
  },
  {
   "cell_type": "code",
   "execution_count": 44,
   "id": "d3bff218-2d70-4826-838e-4761cb8eef24",
   "metadata": {},
   "outputs": [
    {
     "name": "stdout",
     "output_type": "stream",
     "text": [
      "[154 124]\n"
     ]
    }
   ],
   "source": [
    "#sum down of each row\n",
    "print(np.sum(mark_Array,axis=1))"
   ]
  },
  {
   "cell_type": "markdown",
   "id": "09241bcd-2a03-445c-8650-e75c6bdbc06e",
   "metadata": {},
   "source": [
    "#### Example 2 "
   ]
  },
  {
   "cell_type": "code",
   "execution_count": 47,
   "id": "fe777c31-8ce0-4a84-bff3-f9e9bc67925a",
   "metadata": {},
   "outputs": [
    {
     "data": {
      "text/html": [
       "<div>\n",
       "<style scoped>\n",
       "    .dataframe tbody tr th:only-of-type {\n",
       "        vertical-align: middle;\n",
       "    }\n",
       "\n",
       "    .dataframe tbody tr th {\n",
       "        vertical-align: top;\n",
       "    }\n",
       "\n",
       "    .dataframe thead th {\n",
       "        text-align: right;\n",
       "    }\n",
       "</style>\n",
       "<table border=\"1\" class=\"dataframe\">\n",
       "  <thead>\n",
       "    <tr style=\"text-align: right;\">\n",
       "      <th></th>\n",
       "      <th>Name</th>\n",
       "      <th>Age</th>\n",
       "      <th>Marks</th>\n",
       "    </tr>\n",
       "  </thead>\n",
       "  <tbody>\n",
       "    <tr>\n",
       "      <th>0</th>\n",
       "      <td>John</td>\n",
       "      <td>20</td>\n",
       "      <td>85</td>\n",
       "    </tr>\n",
       "    <tr>\n",
       "      <th>1</th>\n",
       "      <td>Alice</td>\n",
       "      <td>22</td>\n",
       "      <td>90</td>\n",
       "    </tr>\n",
       "    <tr>\n",
       "      <th>2</th>\n",
       "      <td>Bob</td>\n",
       "      <td>21</td>\n",
       "      <td>78</td>\n",
       "    </tr>\n",
       "    <tr>\n",
       "      <th>3</th>\n",
       "      <td>Sara</td>\n",
       "      <td>23</td>\n",
       "      <td>92</td>\n",
       "    </tr>\n",
       "    <tr>\n",
       "      <th>4</th>\n",
       "      <td>maya</td>\n",
       "      <td>34</td>\n",
       "      <td>34</td>\n",
       "    </tr>\n",
       "  </tbody>\n",
       "</table>\n",
       "</div>"
      ],
      "text/plain": [
       "    Name  Age  Marks\n",
       "0   John   20     85\n",
       "1  Alice   22     90\n",
       "2    Bob   21     78\n",
       "3   Sara   23     92\n",
       "4   maya   34     34"
      ]
     },
     "execution_count": 47,
     "metadata": {},
     "output_type": "execute_result"
    }
   ],
   "source": [
    "df"
   ]
  },
  {
   "cell_type": "markdown",
   "id": "c0f07855-8c60-423f-a2fe-98b94cc84936",
   "metadata": {},
   "source": [
    " Find student who got highest mark"
   ]
  },
  {
   "cell_type": "code",
   "execution_count": 65,
   "id": "c7158bd8-7577-4825-8808-d09c0a87924a",
   "metadata": {},
   "outputs": [
    {
     "name": "stdout",
     "output_type": "stream",
     "text": [
      "Sara\n"
     ]
    }
   ],
   "source": [
    "topper = df.loc[df['Marks'].idxmax(),'Name']\n",
    "print(topper)"
   ]
  },
  {
   "cell_type": "markdown",
   "id": "038c296f-067a-4a9f-bcae-f868e304e7f7",
   "metadata": {},
   "source": [
    " Find student who got less mark"
   ]
  },
  {
   "cell_type": "code",
   "execution_count": 66,
   "id": "f50c3c1e-0cf5-4156-b71f-078a6bba6719",
   "metadata": {},
   "outputs": [
    {
     "name": "stdout",
     "output_type": "stream",
     "text": [
      "maya\n"
     ]
    }
   ],
   "source": [
    "loser = df.loc[df['Marks'].idxmin(),'Name']\n",
    "print(loser)"
   ]
  },
  {
   "cell_type": "code",
   "execution_count": 69,
   "id": "28f87562-53b9-4eb6-bb26-557036a9200d",
   "metadata": {},
   "outputs": [
    {
     "name": "stdout",
     "output_type": "stream",
     "text": [
      "3\n",
      "Sara\n"
     ]
    }
   ],
   "source": [
    "top_index = df['Marks'].idxmax()\n",
    "print(top_index)\n",
    "top_student = df.iloc[top_index, df.columns.get_loc(\"Name\")]\n",
    "print(top_student)"
   ]
  }
 ],
 "metadata": {
  "kernelspec": {
   "display_name": "Python [conda env:base] *",
   "language": "python",
   "name": "conda-base-py"
  },
  "language_info": {
   "codemirror_mode": {
    "name": "ipython",
    "version": 3
   },
   "file_extension": ".py",
   "mimetype": "text/x-python",
   "name": "python",
   "nbconvert_exporter": "python",
   "pygments_lexer": "ipython3",
   "version": "3.13.5"
  }
 },
 "nbformat": 4,
 "nbformat_minor": 5
}
