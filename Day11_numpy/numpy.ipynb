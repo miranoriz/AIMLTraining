{
 "cells": [
  {
   "cell_type": "markdown",
   "id": "ca373853-9822-4360-b244-4c88bc42c4a0",
   "metadata": {},
   "source": [
    "## numpy introduction and usage\n",
    "numpy for fast numerical calculation"
   ]
  },
  {
   "cell_type": "code",
   "execution_count": 67,
   "id": "6a180937-16ed-4b78-b482-ef0d35c174a0",
   "metadata": {},
   "outputs": [],
   "source": [
    "import numpy as np"
   ]
  },
  {
   "cell_type": "markdown",
   "id": "0af6cca1-ab77-473b-9c4e-f9a1ba057dfe",
   "metadata": {},
   "source": [
    "### 1D array"
   ]
  },
  {
   "cell_type": "code",
   "execution_count": 68,
   "id": "e1599610-7bf5-4c7b-9fc5-9233fb7decca",
   "metadata": {},
   "outputs": [
    {
     "name": "stdout",
     "output_type": "stream",
     "text": [
      "[10 20 30 40 50]\n"
     ]
    }
   ],
   "source": [
    "array1 = np.array([10,20,30,40,50])\n",
    "print(array1)"
   ]
  },
  {
   "cell_type": "markdown",
   "id": "75aeda67-1230-4c9a-b3f5-152c06451671",
   "metadata": {},
   "source": [
    "### 2D array"
   ]
  },
  {
   "cell_type": "code",
   "execution_count": 69,
   "id": "9d6b6e33-88db-4ff9-8970-30aa463927bd",
   "metadata": {},
   "outputs": [
    {
     "name": "stdout",
     "output_type": "stream",
     "text": [
      "[[ 10  20  30  40  50]\n",
      " [ 60  70  90  80 500]]\n"
     ]
    }
   ],
   "source": [
    "array2 = np.array([[10,20,30,40,50],[60,70,90,80,500]])\n",
    "print(array2)"
   ]
  },
  {
   "cell_type": "markdown",
   "id": "8f952290-601c-4bff-bee9-3d84f86e8a70",
   "metadata": {},
   "source": [
    "### 3D array"
   ]
  },
  {
   "cell_type": "code",
   "execution_count": 70,
   "id": "381bf61b-5f2b-4867-a84e-e4dc73d3b750",
   "metadata": {},
   "outputs": [
    {
     "name": "stdout",
     "output_type": "stream",
     "text": [
      "[[[ 10  20  30  40  50]\n",
      "  [ 60  70  90  80 500]]\n",
      "\n",
      " [[ 10  20  30  40  50]\n",
      "  [ 60  70  90  80 500]]]\n"
     ]
    }
   ],
   "source": [
    "array3 = np.array([[[10,20,30,40,50],[60,70,90,80,500]],[[10,20,30,40,50],[60,70,90,80,500]]])\n",
    "print(array3)"
   ]
  },
  {
   "cell_type": "markdown",
   "id": "d993d178-a14a-4755-a919-4a41b2790fa6",
   "metadata": {},
   "source": [
    "### Find out dimension"
   ]
  },
  {
   "cell_type": "code",
   "execution_count": 71,
   "id": "5367c57a-d8bd-46a1-b32c-da6684b180f0",
   "metadata": {},
   "outputs": [
    {
     "data": {
      "text/plain": [
       "1"
      ]
     },
     "execution_count": 71,
     "metadata": {},
     "output_type": "execute_result"
    }
   ],
   "source": [
    "array1.ndim"
   ]
  },
  {
   "cell_type": "code",
   "execution_count": 72,
   "id": "b519a85e-c68a-4101-911e-84578199e1bc",
   "metadata": {},
   "outputs": [
    {
     "data": {
      "text/plain": [
       "2"
      ]
     },
     "execution_count": 72,
     "metadata": {},
     "output_type": "execute_result"
    }
   ],
   "source": [
    "array2.ndim"
   ]
  },
  {
   "cell_type": "code",
   "execution_count": 73,
   "id": "bbff2a29-41a7-4a74-aae8-6b883c0da7b1",
   "metadata": {},
   "outputs": [
    {
     "data": {
      "text/plain": [
       "3"
      ]
     },
     "execution_count": 73,
     "metadata": {},
     "output_type": "execute_result"
    }
   ],
   "source": [
    "array3.ndim"
   ]
  },
  {
   "cell_type": "markdown",
   "id": "9c4436d3-2b85-4f01-9d42-24cd8022c062",
   "metadata": {},
   "source": [
    "### Write an array of 5 student marks"
   ]
  },
  {
   "cell_type": "code",
   "execution_count": 74,
   "id": "d01d43f7-8506-4976-b09f-f5a5f921623f",
   "metadata": {},
   "outputs": [
    {
     "name": "stdout",
     "output_type": "stream",
     "text": [
      "Array of marks\n",
      "[80 70 75 99 89]\n"
     ]
    }
   ],
   "source": [
    "marks = np.array([80,70,75,99,89])\n",
    "print(\"Array of marks\")\n",
    "print(marks)"
   ]
  },
  {
   "cell_type": "markdown",
   "id": "de95fccf-bc35-4e3c-8ba4-bbc5ddd898c7",
   "metadata": {},
   "source": [
    "### Write an array to take marks of 5 students in 3 subject\n",
    "###### - math, english, chemistry"
   ]
  },
  {
   "cell_type": "code",
   "execution_count": 75,
   "id": "597b93bf-d3b2-457e-bfb0-3ae87239516d",
   "metadata": {},
   "outputs": [
    {
     "name": "stdout",
     "output_type": "stream",
     "text": [
      "2D Array of marks\n",
      "[[50 45 49]\n",
      " [40 42 45]\n",
      " [35 76 98]\n",
      " [23 45 89]\n",
      " [80 75 77]]\n"
     ]
    }
   ],
   "source": [
    "mark_subject = np.array([[50,45,49],[40,42,45],[35,76,98],[23,45,89],[80,75,77]])\n",
    "print(\"2D Array of marks\")\n",
    "print(mark_subject)"
   ]
  },
  {
   "cell_type": "markdown",
   "id": "0e045d43-6e6b-4dc2-b8ab-3290bef9e5fc",
   "metadata": {},
   "source": [
    "### Write an array to take marks of 4 students in 3 subject for 2 semester\n",
    "###### Subject: math, english, chemistry\n",
    "###### Names:   'mia','mit','mira','zay'\n",
    "###### Semester: Sem1,Sem2\n",
    "###### 4x3x2"
   ]
  },
  {
   "cell_type": "code",
   "execution_count": 76,
   "id": "69cf3f28-6ded-47ac-9157-801df0afa1d4",
   "metadata": {},
   "outputs": [
    {
     "name": "stdout",
     "output_type": "stream",
     "text": [
      "[[[91 98]\n",
      "  [60 70]\n",
      "  [78 89]]\n",
      "\n",
      " [[12 34]\n",
      "  [56 78]\n",
      "  [90 89]]\n",
      "\n",
      " [[21 32]\n",
      "  [43 54]\n",
      "  [65 76]]\n",
      "\n",
      " [[87 98]\n",
      "  [40 75]\n",
      "  [70 34]]]\n"
     ]
    }
   ],
   "source": [
    "mark_sub = np.array([ #[(mat sem1, mat sem2),(eng sem1, eng sem2) ,(chem sem1, chem sem2)]\n",
    "                     [[91,98],[60,70],[78,89]], #mia\n",
    "                     [[12,34],[56,78],[90,89]], #mit\n",
    "                     [[21,32],[43,54],[65,76]], #mira\n",
    "                     [[87,98],[40,75],[70,34]]  #zay\n",
    "                    ])\n",
    "print(mark_sub)"
   ]
  },
  {
   "cell_type": "markdown",
   "id": "6912cfb3-8118-44c0-9dc5-6ef75b2d1e92",
   "metadata": {},
   "source": [
    "### Write an array to take weather of 2 cities in 3 days for 3x in a day\n",
    "\n",
    "###### Time slot: morning,noon,evening\n",
    "###### Cities name: KL,Delhi\n",
    "###### Saturday, Sunday, Monday\n"
   ]
  },
  {
   "cell_type": "code",
   "execution_count": 77,
   "id": "b7b1bcaa-0e48-46fc-8027-284ba59ac3a2",
   "metadata": {},
   "outputs": [
    {
     "name": "stdout",
     "output_type": "stream",
     "text": [
      "[[[20 25 29]\n",
      "  [25 30 19]\n",
      "  [30 25 22]]\n",
      "\n",
      " [[19 25 18]\n",
      "  [25 31 24]\n",
      "  [22 26 23]]]\n"
     ]
    }
   ],
   "source": [
    "weather = np.array([[[#KL('morning','noon','evening')\n",
    "                     20,25,29], #saturday\n",
    "                     [25,30,19], #sunday\n",
    "                     [30,25,22]], #monday\n",
    "                    \n",
    "                      #Delhi('morning','noon','evening')\n",
    "                     [[19,25,18], #saturday\n",
    "                     [25,31,24], #sunday\n",
    "                     [22,26,23] #monday\n",
    "                    ]])\n",
    "print(weather)"
   ]
  },
  {
   "cell_type": "code",
   "execution_count": 78,
   "id": "866e09ed-4c15-4f42-a7a6-e880dce40184",
   "metadata": {},
   "outputs": [
    {
     "name": "stdout",
     "output_type": "stream",
     "text": [
      "[[[20 25 29]\n",
      "  [25 30 19]\n",
      "  [30 25 22]]\n",
      "\n",
      " [[19 25 18]\n",
      "  [25 31 24]\n",
      "  [22 26 23]]]\n"
     ]
    }
   ],
   "source": [
    "weather1 = np.array([[[20,25,29], [25,30,19],[30,25,22]], [[19,25,18],[25,31,24],[22,26,23]]])\n",
    "print(weather1)"
   ]
  },
  {
   "cell_type": "markdown",
   "id": "505bc8e3-4478-47f6-8520-b540f16d43b4",
   "metadata": {},
   "source": [
    "### Data Type"
   ]
  },
  {
   "cell_type": "code",
   "execution_count": 79,
   "id": "435ecbc0-1e41-45ef-941a-5a24dd3d6ed7",
   "metadata": {},
   "outputs": [
    {
     "name": "stdout",
     "output_type": "stream",
     "text": [
      "int64\n",
      "int64\n",
      "int64\n"
     ]
    }
   ],
   "source": [
    "print(array1.dtype)\n",
    "print(array2.dtype)\n",
    "print(weather.dtype)"
   ]
  },
  {
   "cell_type": "markdown",
   "id": "3af396e1-f936-4122-8618-d39f675d1ddc",
   "metadata": {},
   "source": [
    "### Basic Information\n",
    "    shape = row & column\n",
    "    size = number of element\n",
    "    dtype = data type\n",
    "    ndim = dimension"
   ]
  },
  {
   "cell_type": "code",
   "execution_count": 86,
   "id": "1c9f8251-2e48-4d19-a56c-f3df694e4471",
   "metadata": {},
   "outputs": [
    {
     "name": "stdout",
     "output_type": "stream",
     "text": [
      "['ali bin kabir' 'mira' 'maua' 'izat' 'noriz']\n"
     ]
    }
   ],
   "source": [
    "student = np.array(['ali bin kabir','mira','maua','izat','noriz'])\n",
    "print(student)"
   ]
  },
  {
   "cell_type": "code",
   "execution_count": 83,
   "id": "468f4c0f-c762-4f14-8e4e-01dabaf8d9a7",
   "metadata": {},
   "outputs": [
    {
     "data": {
      "text/plain": [
       "(4,)"
      ]
     },
     "execution_count": 83,
     "metadata": {},
     "output_type": "execute_result"
    }
   ],
   "source": [
    "student.shape"
   ]
  },
  {
   "cell_type": "code",
   "execution_count": 88,
   "id": "70668445-88b2-45a4-8a5d-a1ca243b55ba",
   "metadata": {},
   "outputs": [
    {
     "data": {
      "text/plain": [
       "5"
      ]
     },
     "execution_count": 88,
     "metadata": {},
     "output_type": "execute_result"
    }
   ],
   "source": [
    "student.size"
   ]
  },
  {
   "cell_type": "code",
   "execution_count": 85,
   "id": "3ec99ec9-f762-48c9-b30f-94ae5bb46a9b",
   "metadata": {},
   "outputs": [
    {
     "data": {
      "text/plain": [
       "dtype('<U5')"
      ]
     },
     "execution_count": 85,
     "metadata": {},
     "output_type": "execute_result"
    }
   ],
   "source": [
    "student.dtype"
   ]
  },
  {
   "cell_type": "code",
   "execution_count": 87,
   "id": "164f4f15-1c25-4118-93b0-eaf9ad86039b",
   "metadata": {},
   "outputs": [
    {
     "data": {
      "text/plain": [
       "1"
      ]
     },
     "execution_count": 87,
     "metadata": {},
     "output_type": "execute_result"
    }
   ],
   "source": [
    "student.ndim"
   ]
  },
  {
   "cell_type": "markdown",
   "id": "e9827dd4-f8a4-4285-abe9-7d21532c6f6d",
   "metadata": {},
   "source": [
    "### Mathematical Operation"
   ]
  },
  {
   "cell_type": "code",
   "execution_count": 89,
   "id": "333bdccf-ee47-461a-a7d0-2fadc9d4fb30",
   "metadata": {},
   "outputs": [
    {
     "name": "stdout",
     "output_type": "stream",
     "text": [
      "[10 20 30 40 50]\n"
     ]
    }
   ],
   "source": [
    "print(array1)"
   ]
  },
  {
   "cell_type": "code",
   "execution_count": 93,
   "id": "64dd95bd-2dfd-4edf-b13b-390c80d3ae4b",
   "metadata": {},
   "outputs": [
    {
     "name": "stdout",
     "output_type": "stream",
     "text": [
      "150\n"
     ]
    }
   ],
   "source": [
    "# Sum\n",
    "print (np.sum(array1)"
   ]
  },
  {
   "cell_type": "code",
   "execution_count": 94,
   "id": "f4d129f2-0913-4318-9606-7b4613b2cc72",
   "metadata": {},
   "outputs": [
    {
     "name": "stdout",
     "output_type": "stream",
     "text": [
      "30.0\n"
     ]
    }
   ],
   "source": [
    "# Mean value\n",
    "print(np.mean(array1))"
   ]
  },
  {
   "cell_type": "code",
   "execution_count": 95,
   "id": "18b896fe-fe0c-44b7-9b2a-93598e69a1b2",
   "metadata": {},
   "outputs": [
    {
     "name": "stdout",
     "output_type": "stream",
     "text": [
      "10\n"
     ]
    }
   ],
   "source": [
    "# Minimum value\n",
    "print(np.min(array1))"
   ]
  },
  {
   "cell_type": "code",
   "execution_count": 102,
   "id": "577dfeee-7e7b-4cc2-92be-eec10d6f74dc",
   "metadata": {},
   "outputs": [
    {
     "name": "stdout",
     "output_type": "stream",
     "text": [
      "50\n"
     ]
    }
   ],
   "source": [
    "# Maximum value\n",
    "print(np.max(array1))"
   ]
  },
  {
   "cell_type": "code",
   "execution_count": 100,
   "id": "526dc8c3-3090-4166-9e8b-bc4238d1deee",
   "metadata": {},
   "outputs": [
    {
     "name": "stdout",
     "output_type": "stream",
     "text": [
      "0\n"
     ]
    }
   ],
   "source": [
    "# Index of min\n",
    "print(np.argmin(array1))"
   ]
  },
  {
   "cell_type": "code",
   "execution_count": 101,
   "id": "a8d5994a-f2a4-4ba2-ae94-163c1c153f33",
   "metadata": {},
   "outputs": [
    {
     "name": "stdout",
     "output_type": "stream",
     "text": [
      "4\n"
     ]
    }
   ],
   "source": [
    "# Index of max\n",
    "print(np.argmax(array1))"
   ]
  },
  {
   "cell_type": "code",
   "execution_count": 113,
   "id": "2034979f-c501-4691-ae62-01af55e364ae",
   "metadata": {},
   "outputs": [],
   "source": [
    "our_arr = np.array([900,200,300,100,800,600,700,850])"
   ]
  },
  {
   "cell_type": "code",
   "execution_count": 123,
   "id": "0d8172f8-d601-4338-8868-8c10505c9e27",
   "metadata": {},
   "outputs": [
    {
     "name": "stdout",
     "output_type": "stream",
     "text": [
      "[100 200 300 600 700 800 850 900]\n"
     ]
    }
   ],
   "source": [
    "# Sort\n",
    "sorted_arr = np.sort(our_arr)\n",
    "print(sorted_arr)"
   ]
  },
  {
   "cell_type": "code",
   "execution_count": 124,
   "id": "c1366103-350d-4f1c-b4a6-69482645d67b",
   "metadata": {},
   "outputs": [
    {
     "name": "stdout",
     "output_type": "stream",
     "text": [
      "True\n"
     ]
    }
   ],
   "source": [
    "# Is there any item over 500\n",
    "print(np.any(sorted_arr>500))"
   ]
  },
  {
   "cell_type": "code",
   "execution_count": 125,
   "id": "729f358a-6e11-415e-bb76-149e8d9fbdcb",
   "metadata": {},
   "outputs": [
    {
     "name": "stdout",
     "output_type": "stream",
     "text": [
      "False\n"
     ]
    }
   ],
   "source": [
    "# Is all item over 500\n",
    "print(np.all(sorted_arr>500))"
   ]
  },
  {
   "cell_type": "code",
   "execution_count": 129,
   "id": "c5e797bf-7b23-4a36-b8d4-74d4a7371933",
   "metadata": {},
   "outputs": [
    {
     "name": "stdout",
     "output_type": "stream",
     "text": [
      "True\n"
     ]
    }
   ],
   "source": [
    "# Is all item over 99\n",
    "print(np.all(sorted_arr>99))"
   ]
  },
  {
   "cell_type": "code",
   "execution_count": 128,
   "id": "363fdf5d-056b-4606-9b68-8fb3f977859f",
   "metadata": {},
   "outputs": [
    {
     "name": "stdout",
     "output_type": "stream",
     "text": [
      "(array([3, 4, 5, 6, 7]),)\n"
     ]
    }
   ],
   "source": [
    "# Where value > 500\n",
    "print(np.where(sorted_arr>500))"
   ]
  },
  {
   "cell_type": "code",
   "execution_count": 131,
   "id": "5286556b-ef09-4d58-85c1-2d63c224ec8d",
   "metadata": {},
   "outputs": [
    {
     "name": "stdout",
     "output_type": "stream",
     "text": [
      "[3 4 5 6 7]\n"
     ]
    }
   ],
   "source": [
    "# Print all index where number is greater than 500\n",
    "for num in np.where(sorted_arr>500):\n",
    "    print(num)"
   ]
  }
 ],
 "metadata": {
  "kernelspec": {
   "display_name": "Python [conda env:base] *",
   "language": "python",
   "name": "conda-base-py"
  },
  "language_info": {
   "codemirror_mode": {
    "name": "ipython",
    "version": 3
   },
   "file_extension": ".py",
   "mimetype": "text/x-python",
   "name": "python",
   "nbconvert_exporter": "python",
   "pygments_lexer": "ipython3",
   "version": "3.13.5"
  }
 },
 "nbformat": 4,
 "nbformat_minor": 5
}
