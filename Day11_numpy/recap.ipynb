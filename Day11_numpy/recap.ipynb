{
 "cells": [
  {
   "cell_type": "markdown",
   "id": "fe97a4c9-e692-42b7-968e-b87b27b767f1",
   "metadata": {},
   "source": [
    "##example to read out excel file in same folder"
   ]
  },
  {
   "cell_type": "code",
   "execution_count": 1,
   "id": "7dcc444e-796f-4a80-84ac-4db37acbe2a7",
   "metadata": {},
   "outputs": [],
   "source": [
    "import pandas as pd"
   ]
  },
  {
   "cell_type": "code",
   "execution_count": 2,
   "id": "ce802909-6b63-4282-983a-c157e5479c86",
   "metadata": {},
   "outputs": [],
   "source": [
    "df = pd.read_excel(\"students.xlsx\")"
   ]
  },
  {
   "cell_type": "code",
   "execution_count": 3,
   "id": "1ee6f1f9-8d66-409d-9cf4-2ec407e70ab2",
   "metadata": {},
   "outputs": [
    {
     "name": "stdout",
     "output_type": "stream",
     "text": [
      "Printing Data Frame as follows: \n"
     ]
    }
   ],
   "source": [
    "print(\"Printing Data Frame as follows: \")"
   ]
  },
  {
   "cell_type": "code",
   "execution_count": 4,
   "id": "73152589-c24b-427f-a232-cb60e789f986",
   "metadata": {},
   "outputs": [
    {
     "data": {
      "text/html": [
       "<div>\n",
       "<style scoped>\n",
       "    .dataframe tbody tr th:only-of-type {\n",
       "        vertical-align: middle;\n",
       "    }\n",
       "\n",
       "    .dataframe tbody tr th {\n",
       "        vertical-align: top;\n",
       "    }\n",
       "\n",
       "    .dataframe thead th {\n",
       "        text-align: right;\n",
       "    }\n",
       "</style>\n",
       "<table border=\"1\" class=\"dataframe\">\n",
       "  <thead>\n",
       "    <tr style=\"text-align: right;\">\n",
       "      <th></th>\n",
       "      <th>Name</th>\n",
       "      <th>Age</th>\n",
       "      <th>Marks</th>\n",
       "    </tr>\n",
       "  </thead>\n",
       "  <tbody>\n",
       "    <tr>\n",
       "      <th>0</th>\n",
       "      <td>John</td>\n",
       "      <td>20</td>\n",
       "      <td>85</td>\n",
       "    </tr>\n",
       "    <tr>\n",
       "      <th>1</th>\n",
       "      <td>Alice</td>\n",
       "      <td>22</td>\n",
       "      <td>90</td>\n",
       "    </tr>\n",
       "    <tr>\n",
       "      <th>2</th>\n",
       "      <td>Bob</td>\n",
       "      <td>21</td>\n",
       "      <td>78</td>\n",
       "    </tr>\n",
       "    <tr>\n",
       "      <th>3</th>\n",
       "      <td>Sara</td>\n",
       "      <td>23</td>\n",
       "      <td>92</td>\n",
       "    </tr>\n",
       "    <tr>\n",
       "      <th>4</th>\n",
       "      <td>maya</td>\n",
       "      <td>34</td>\n",
       "      <td>34</td>\n",
       "    </tr>\n",
       "  </tbody>\n",
       "</table>\n",
       "</div>"
      ],
      "text/plain": [
       "    Name  Age  Marks\n",
       "0   John   20     85\n",
       "1  Alice   22     90\n",
       "2    Bob   21     78\n",
       "3   Sara   23     92\n",
       "4   maya   34     34"
      ]
     },
     "execution_count": 4,
     "metadata": {},
     "output_type": "execute_result"
    }
   ],
   "source": [
    "df"
   ]
  },
  {
   "cell_type": "markdown",
   "id": "36b7a80c-8e49-4212-b713-3173cb69d575",
   "metadata": {},
   "source": [
    "##example to read out excel file in different folder"
   ]
  },
  {
   "cell_type": "code",
   "execution_count": 5,
   "id": "19eba8ac-80c8-444f-8d2a-74dfdc0a9120",
   "metadata": {},
   "outputs": [
    {
     "data": {
      "text/html": [
       "<div>\n",
       "<style scoped>\n",
       "    .dataframe tbody tr th:only-of-type {\n",
       "        vertical-align: middle;\n",
       "    }\n",
       "\n",
       "    .dataframe tbody tr th {\n",
       "        vertical-align: top;\n",
       "    }\n",
       "\n",
       "    .dataframe thead th {\n",
       "        text-align: right;\n",
       "    }\n",
       "</style>\n",
       "<table border=\"1\" class=\"dataframe\">\n",
       "  <thead>\n",
       "    <tr style=\"text-align: right;\">\n",
       "      <th></th>\n",
       "      <th>patient_id</th>\n",
       "      <th>name</th>\n",
       "      <th>age</th>\n",
       "      <th>arrival_date</th>\n",
       "      <th>departure_date</th>\n",
       "      <th>service</th>\n",
       "      <th>satisfaction</th>\n",
       "    </tr>\n",
       "  </thead>\n",
       "  <tbody>\n",
       "    <tr>\n",
       "      <th>0</th>\n",
       "      <td>PAT-08591375</td>\n",
       "      <td>Garrett Lin</td>\n",
       "      <td>25</td>\n",
       "      <td>2025-02-18</td>\n",
       "      <td>2025-02-25</td>\n",
       "      <td>ICU</td>\n",
       "      <td>76</td>\n",
       "    </tr>\n",
       "    <tr>\n",
       "      <th>1</th>\n",
       "      <td>PAT-5b61868c</td>\n",
       "      <td>Ashley Waller</td>\n",
       "      <td>0</td>\n",
       "      <td>2025-05-21</td>\n",
       "      <td>2025-06-04</td>\n",
       "      <td>ICU</td>\n",
       "      <td>82</td>\n",
       "    </tr>\n",
       "    <tr>\n",
       "      <th>2</th>\n",
       "      <td>PAT-003ce690</td>\n",
       "      <td>Larry Dixon</td>\n",
       "      <td>29</td>\n",
       "      <td>2025-01-19</td>\n",
       "      <td>2025-01-21</td>\n",
       "      <td>ICU</td>\n",
       "      <td>60</td>\n",
       "    </tr>\n",
       "    <tr>\n",
       "      <th>3</th>\n",
       "      <td>PAT-5e3f8747</td>\n",
       "      <td>Elizabeth Kelley</td>\n",
       "      <td>34</td>\n",
       "      <td>2025-03-29</td>\n",
       "      <td>2025-04-12</td>\n",
       "      <td>ICU</td>\n",
       "      <td>91</td>\n",
       "    </tr>\n",
       "    <tr>\n",
       "      <th>4</th>\n",
       "      <td>PAT-f70aeea1</td>\n",
       "      <td>Rebecca Jackson</td>\n",
       "      <td>18</td>\n",
       "      <td>2025-02-05</td>\n",
       "      <td>2025-02-18</td>\n",
       "      <td>ICU</td>\n",
       "      <td>77</td>\n",
       "    </tr>\n",
       "    <tr>\n",
       "      <th>...</th>\n",
       "      <td>...</td>\n",
       "      <td>...</td>\n",
       "      <td>...</td>\n",
       "      <td>...</td>\n",
       "      <td>...</td>\n",
       "      <td>...</td>\n",
       "      <td>...</td>\n",
       "    </tr>\n",
       "    <tr>\n",
       "      <th>236</th>\n",
       "      <td>PAT-110d5794</td>\n",
       "      <td>Travis Hull</td>\n",
       "      <td>48</td>\n",
       "      <td>2025-11-12</td>\n",
       "      <td>2025-11-18</td>\n",
       "      <td>ICU</td>\n",
       "      <td>89</td>\n",
       "    </tr>\n",
       "    <tr>\n",
       "      <th>237</th>\n",
       "      <td>PAT-8700b93a</td>\n",
       "      <td>Nicholas Lawrence</td>\n",
       "      <td>9</td>\n",
       "      <td>2025-10-25</td>\n",
       "      <td>2025-11-02</td>\n",
       "      <td>ICU</td>\n",
       "      <td>92</td>\n",
       "    </tr>\n",
       "    <tr>\n",
       "      <th>238</th>\n",
       "      <td>PAT-e5d6a9cf</td>\n",
       "      <td>Jacob Santos</td>\n",
       "      <td>76</td>\n",
       "      <td>2025-12-27</td>\n",
       "      <td>2026-01-02</td>\n",
       "      <td>ICU</td>\n",
       "      <td>96</td>\n",
       "    </tr>\n",
       "    <tr>\n",
       "      <th>239</th>\n",
       "      <td>PAT-8f07e894</td>\n",
       "      <td>Jennifer James</td>\n",
       "      <td>72</td>\n",
       "      <td>2025-12-12</td>\n",
       "      <td>2025-12-21</td>\n",
       "      <td>ICU</td>\n",
       "      <td>69</td>\n",
       "    </tr>\n",
       "    <tr>\n",
       "      <th>240</th>\n",
       "      <td>PAT-4ae301e1</td>\n",
       "      <td>Kara Hernandez</td>\n",
       "      <td>47</td>\n",
       "      <td>2025-02-08</td>\n",
       "      <td>2025-02-20</td>\n",
       "      <td>ICU</td>\n",
       "      <td>61</td>\n",
       "    </tr>\n",
       "  </tbody>\n",
       "</table>\n",
       "<p>241 rows × 7 columns</p>\n",
       "</div>"
      ],
      "text/plain": [
       "       patient_id               name  age arrival_date departure_date service  \\\n",
       "0    PAT-08591375        Garrett Lin   25   2025-02-18     2025-02-25     ICU   \n",
       "1    PAT-5b61868c      Ashley Waller    0   2025-05-21     2025-06-04     ICU   \n",
       "2    PAT-003ce690        Larry Dixon   29   2025-01-19     2025-01-21     ICU   \n",
       "3    PAT-5e3f8747   Elizabeth Kelley   34   2025-03-29     2025-04-12     ICU   \n",
       "4    PAT-f70aeea1    Rebecca Jackson   18   2025-02-05     2025-02-18     ICU   \n",
       "..            ...                ...  ...          ...            ...     ...   \n",
       "236  PAT-110d5794        Travis Hull   48   2025-11-12     2025-11-18     ICU   \n",
       "237  PAT-8700b93a  Nicholas Lawrence    9   2025-10-25     2025-11-02     ICU   \n",
       "238  PAT-e5d6a9cf       Jacob Santos   76   2025-12-27     2026-01-02     ICU   \n",
       "239  PAT-8f07e894     Jennifer James   72   2025-12-12     2025-12-21     ICU   \n",
       "240  PAT-4ae301e1     Kara Hernandez   47   2025-02-08     2025-02-20     ICU   \n",
       "\n",
       "     satisfaction  \n",
       "0              76  \n",
       "1              82  \n",
       "2              60  \n",
       "3              91  \n",
       "4              77  \n",
       "..            ...  \n",
       "236            89  \n",
       "237            92  \n",
       "238            96  \n",
       "239            69  \n",
       "240            61  \n",
       "\n",
       "[241 rows x 7 columns]"
      ]
     },
     "execution_count": 5,
     "metadata": {},
     "output_type": "execute_result"
    }
   ],
   "source": [
    "patients = pd.read_excel(\"/Users/aziim/Desktop/AIMLTraining/Day10/ICU_Patient.xlsx\")\n",
    "patients"
   ]
  },
  {
   "cell_type": "code",
   "execution_count": 6,
   "id": "b21b78b7-9f3c-4e9d-9480-990fff496a06",
   "metadata": {},
   "outputs": [
    {
     "data": {
      "text/plain": [
       "0            Garrett Lin\n",
       "1          Ashley Waller\n",
       "2            Larry Dixon\n",
       "3       Elizabeth Kelley\n",
       "4        Rebecca Jackson\n",
       "             ...        \n",
       "236          Travis Hull\n",
       "237    Nicholas Lawrence\n",
       "238         Jacob Santos\n",
       "239       Jennifer James\n",
       "240       Kara Hernandez\n",
       "Name: name, Length: 241, dtype: object"
      ]
     },
     "execution_count": 6,
     "metadata": {},
     "output_type": "execute_result"
    }
   ],
   "source": [
    "patients['name']"
   ]
  },
  {
   "cell_type": "markdown",
   "id": "3bae7768-39bc-4a84-89a1-ffb2a60fea4c",
   "metadata": {},
   "source": [
    "##head in dataframe"
   ]
  },
  {
   "cell_type": "code",
   "execution_count": 7,
   "id": "7d531bfb-eacb-4290-a5d4-89973e904e52",
   "metadata": {},
   "outputs": [
    {
     "data": {
      "text/html": [
       "<div>\n",
       "<style scoped>\n",
       "    .dataframe tbody tr th:only-of-type {\n",
       "        vertical-align: middle;\n",
       "    }\n",
       "\n",
       "    .dataframe tbody tr th {\n",
       "        vertical-align: top;\n",
       "    }\n",
       "\n",
       "    .dataframe thead th {\n",
       "        text-align: right;\n",
       "    }\n",
       "</style>\n",
       "<table border=\"1\" class=\"dataframe\">\n",
       "  <thead>\n",
       "    <tr style=\"text-align: right;\">\n",
       "      <th></th>\n",
       "      <th>patient_id</th>\n",
       "      <th>name</th>\n",
       "      <th>age</th>\n",
       "      <th>arrival_date</th>\n",
       "      <th>departure_date</th>\n",
       "      <th>service</th>\n",
       "      <th>satisfaction</th>\n",
       "    </tr>\n",
       "  </thead>\n",
       "  <tbody>\n",
       "    <tr>\n",
       "      <th>0</th>\n",
       "      <td>PAT-08591375</td>\n",
       "      <td>Garrett Lin</td>\n",
       "      <td>25</td>\n",
       "      <td>2025-02-18</td>\n",
       "      <td>2025-02-25</td>\n",
       "      <td>ICU</td>\n",
       "      <td>76</td>\n",
       "    </tr>\n",
       "    <tr>\n",
       "      <th>1</th>\n",
       "      <td>PAT-5b61868c</td>\n",
       "      <td>Ashley Waller</td>\n",
       "      <td>0</td>\n",
       "      <td>2025-05-21</td>\n",
       "      <td>2025-06-04</td>\n",
       "      <td>ICU</td>\n",
       "      <td>82</td>\n",
       "    </tr>\n",
       "    <tr>\n",
       "      <th>2</th>\n",
       "      <td>PAT-003ce690</td>\n",
       "      <td>Larry Dixon</td>\n",
       "      <td>29</td>\n",
       "      <td>2025-01-19</td>\n",
       "      <td>2025-01-21</td>\n",
       "      <td>ICU</td>\n",
       "      <td>60</td>\n",
       "    </tr>\n",
       "    <tr>\n",
       "      <th>3</th>\n",
       "      <td>PAT-5e3f8747</td>\n",
       "      <td>Elizabeth Kelley</td>\n",
       "      <td>34</td>\n",
       "      <td>2025-03-29</td>\n",
       "      <td>2025-04-12</td>\n",
       "      <td>ICU</td>\n",
       "      <td>91</td>\n",
       "    </tr>\n",
       "    <tr>\n",
       "      <th>4</th>\n",
       "      <td>PAT-f70aeea1</td>\n",
       "      <td>Rebecca Jackson</td>\n",
       "      <td>18</td>\n",
       "      <td>2025-02-05</td>\n",
       "      <td>2025-02-18</td>\n",
       "      <td>ICU</td>\n",
       "      <td>77</td>\n",
       "    </tr>\n",
       "  </tbody>\n",
       "</table>\n",
       "</div>"
      ],
      "text/plain": [
       "     patient_id              name  age arrival_date departure_date service  \\\n",
       "0  PAT-08591375       Garrett Lin   25   2025-02-18     2025-02-25     ICU   \n",
       "1  PAT-5b61868c     Ashley Waller    0   2025-05-21     2025-06-04     ICU   \n",
       "2  PAT-003ce690       Larry Dixon   29   2025-01-19     2025-01-21     ICU   \n",
       "3  PAT-5e3f8747  Elizabeth Kelley   34   2025-03-29     2025-04-12     ICU   \n",
       "4  PAT-f70aeea1   Rebecca Jackson   18   2025-02-05     2025-02-18     ICU   \n",
       "\n",
       "   satisfaction  \n",
       "0            76  \n",
       "1            82  \n",
       "2            60  \n",
       "3            91  \n",
       "4            77  "
      ]
     },
     "execution_count": 7,
     "metadata": {},
     "output_type": "execute_result"
    }
   ],
   "source": [
    "patients.head()"
   ]
  },
  {
   "cell_type": "code",
   "execution_count": 8,
   "id": "98c09879-9854-43be-b527-ae6b8641f5f9",
   "metadata": {},
   "outputs": [
    {
     "data": {
      "text/html": [
       "<div>\n",
       "<style scoped>\n",
       "    .dataframe tbody tr th:only-of-type {\n",
       "        vertical-align: middle;\n",
       "    }\n",
       "\n",
       "    .dataframe tbody tr th {\n",
       "        vertical-align: top;\n",
       "    }\n",
       "\n",
       "    .dataframe thead th {\n",
       "        text-align: right;\n",
       "    }\n",
       "</style>\n",
       "<table border=\"1\" class=\"dataframe\">\n",
       "  <thead>\n",
       "    <tr style=\"text-align: right;\">\n",
       "      <th></th>\n",
       "      <th>Name</th>\n",
       "      <th>Age</th>\n",
       "      <th>Marks</th>\n",
       "    </tr>\n",
       "  </thead>\n",
       "  <tbody>\n",
       "    <tr>\n",
       "      <th>0</th>\n",
       "      <td>John</td>\n",
       "      <td>20</td>\n",
       "      <td>85</td>\n",
       "    </tr>\n",
       "    <tr>\n",
       "      <th>1</th>\n",
       "      <td>Alice</td>\n",
       "      <td>22</td>\n",
       "      <td>90</td>\n",
       "    </tr>\n",
       "    <tr>\n",
       "      <th>2</th>\n",
       "      <td>Bob</td>\n",
       "      <td>21</td>\n",
       "      <td>78</td>\n",
       "    </tr>\n",
       "    <tr>\n",
       "      <th>3</th>\n",
       "      <td>Sara</td>\n",
       "      <td>23</td>\n",
       "      <td>92</td>\n",
       "    </tr>\n",
       "    <tr>\n",
       "      <th>4</th>\n",
       "      <td>maya</td>\n",
       "      <td>34</td>\n",
       "      <td>34</td>\n",
       "    </tr>\n",
       "  </tbody>\n",
       "</table>\n",
       "</div>"
      ],
      "text/plain": [
       "    Name  Age  Marks\n",
       "0   John   20     85\n",
       "1  Alice   22     90\n",
       "2    Bob   21     78\n",
       "3   Sara   23     92\n",
       "4   maya   34     34"
      ]
     },
     "execution_count": 8,
     "metadata": {},
     "output_type": "execute_result"
    }
   ],
   "source": [
    "df.head()"
   ]
  },
  {
   "cell_type": "code",
   "execution_count": 9,
   "id": "53df79d4-3044-4358-bc4a-8c39f09e5704",
   "metadata": {},
   "outputs": [
    {
     "name": "stdout",
     "output_type": "stream",
     "text": [
      "Print last 2 data\n"
     ]
    },
    {
     "data": {
      "text/html": [
       "<div>\n",
       "<style scoped>\n",
       "    .dataframe tbody tr th:only-of-type {\n",
       "        vertical-align: middle;\n",
       "    }\n",
       "\n",
       "    .dataframe tbody tr th {\n",
       "        vertical-align: top;\n",
       "    }\n",
       "\n",
       "    .dataframe thead th {\n",
       "        text-align: right;\n",
       "    }\n",
       "</style>\n",
       "<table border=\"1\" class=\"dataframe\">\n",
       "  <thead>\n",
       "    <tr style=\"text-align: right;\">\n",
       "      <th></th>\n",
       "      <th>Name</th>\n",
       "      <th>Age</th>\n",
       "      <th>Marks</th>\n",
       "    </tr>\n",
       "  </thead>\n",
       "  <tbody>\n",
       "    <tr>\n",
       "      <th>3</th>\n",
       "      <td>Sara</td>\n",
       "      <td>23</td>\n",
       "      <td>92</td>\n",
       "    </tr>\n",
       "    <tr>\n",
       "      <th>4</th>\n",
       "      <td>maya</td>\n",
       "      <td>34</td>\n",
       "      <td>34</td>\n",
       "    </tr>\n",
       "  </tbody>\n",
       "</table>\n",
       "</div>"
      ],
      "text/plain": [
       "   Name  Age  Marks\n",
       "3  Sara   23     92\n",
       "4  maya   34     34"
      ]
     },
     "execution_count": 9,
     "metadata": {},
     "output_type": "execute_result"
    }
   ],
   "source": [
    "print(\"Print last 2 data\")\n",
    "df.tail(2)"
   ]
  },
  {
   "cell_type": "code",
   "execution_count": 10,
   "id": "12d2ae0f-a795-4cf9-b4b2-d47b453399e6",
   "metadata": {},
   "outputs": [
    {
     "data": {
      "text/html": [
       "<div>\n",
       "<style scoped>\n",
       "    .dataframe tbody tr th:only-of-type {\n",
       "        vertical-align: middle;\n",
       "    }\n",
       "\n",
       "    .dataframe tbody tr th {\n",
       "        vertical-align: top;\n",
       "    }\n",
       "\n",
       "    .dataframe thead th {\n",
       "        text-align: right;\n",
       "    }\n",
       "</style>\n",
       "<table border=\"1\" class=\"dataframe\">\n",
       "  <thead>\n",
       "    <tr style=\"text-align: right;\">\n",
       "      <th></th>\n",
       "      <th>patient_id</th>\n",
       "      <th>name</th>\n",
       "      <th>age</th>\n",
       "      <th>arrival_date</th>\n",
       "      <th>departure_date</th>\n",
       "      <th>service</th>\n",
       "      <th>satisfaction</th>\n",
       "    </tr>\n",
       "  </thead>\n",
       "  <tbody>\n",
       "    <tr>\n",
       "      <th>236</th>\n",
       "      <td>PAT-110d5794</td>\n",
       "      <td>Travis Hull</td>\n",
       "      <td>48</td>\n",
       "      <td>2025-11-12</td>\n",
       "      <td>2025-11-18</td>\n",
       "      <td>ICU</td>\n",
       "      <td>89</td>\n",
       "    </tr>\n",
       "    <tr>\n",
       "      <th>237</th>\n",
       "      <td>PAT-8700b93a</td>\n",
       "      <td>Nicholas Lawrence</td>\n",
       "      <td>9</td>\n",
       "      <td>2025-10-25</td>\n",
       "      <td>2025-11-02</td>\n",
       "      <td>ICU</td>\n",
       "      <td>92</td>\n",
       "    </tr>\n",
       "    <tr>\n",
       "      <th>238</th>\n",
       "      <td>PAT-e5d6a9cf</td>\n",
       "      <td>Jacob Santos</td>\n",
       "      <td>76</td>\n",
       "      <td>2025-12-27</td>\n",
       "      <td>2026-01-02</td>\n",
       "      <td>ICU</td>\n",
       "      <td>96</td>\n",
       "    </tr>\n",
       "    <tr>\n",
       "      <th>239</th>\n",
       "      <td>PAT-8f07e894</td>\n",
       "      <td>Jennifer James</td>\n",
       "      <td>72</td>\n",
       "      <td>2025-12-12</td>\n",
       "      <td>2025-12-21</td>\n",
       "      <td>ICU</td>\n",
       "      <td>69</td>\n",
       "    </tr>\n",
       "    <tr>\n",
       "      <th>240</th>\n",
       "      <td>PAT-4ae301e1</td>\n",
       "      <td>Kara Hernandez</td>\n",
       "      <td>47</td>\n",
       "      <td>2025-02-08</td>\n",
       "      <td>2025-02-20</td>\n",
       "      <td>ICU</td>\n",
       "      <td>61</td>\n",
       "    </tr>\n",
       "  </tbody>\n",
       "</table>\n",
       "</div>"
      ],
      "text/plain": [
       "       patient_id               name  age arrival_date departure_date service  \\\n",
       "236  PAT-110d5794        Travis Hull   48   2025-11-12     2025-11-18     ICU   \n",
       "237  PAT-8700b93a  Nicholas Lawrence    9   2025-10-25     2025-11-02     ICU   \n",
       "238  PAT-e5d6a9cf       Jacob Santos   76   2025-12-27     2026-01-02     ICU   \n",
       "239  PAT-8f07e894     Jennifer James   72   2025-12-12     2025-12-21     ICU   \n",
       "240  PAT-4ae301e1     Kara Hernandez   47   2025-02-08     2025-02-20     ICU   \n",
       "\n",
       "     satisfaction  \n",
       "236            89  \n",
       "237            92  \n",
       "238            96  \n",
       "239            69  \n",
       "240            61  "
      ]
     },
     "execution_count": 10,
     "metadata": {},
     "output_type": "execute_result"
    }
   ],
   "source": [
    "patients.tail(5)"
   ]
  },
  {
   "cell_type": "markdown",
   "id": "d09f8fd4-5485-4480-9db4-0d45e8cee784",
   "metadata": {},
   "source": [
    "##shape example (row & column)"
   ]
  },
  {
   "cell_type": "code",
   "execution_count": 12,
   "id": "161e8db7-9595-4951-8146-87e8a46a2473",
   "metadata": {},
   "outputs": [
    {
     "data": {
      "text/plain": [
       "(5, 3)"
      ]
     },
     "execution_count": 12,
     "metadata": {},
     "output_type": "execute_result"
    }
   ],
   "source": [
    "df.shape"
   ]
  },
  {
   "cell_type": "code",
   "execution_count": 13,
   "id": "84fdc09c-a6eb-40c3-bda1-94659af25712",
   "metadata": {},
   "outputs": [
    {
     "data": {
      "text/plain": [
       "(241, 7)"
      ]
     },
     "execution_count": 13,
     "metadata": {},
     "output_type": "execute_result"
    }
   ],
   "source": [
    "patients.shape"
   ]
  },
  {
   "cell_type": "code",
   "execution_count": 14,
   "id": "4d2092f7-cb9b-4924-b85b-878dad48afec",
   "metadata": {},
   "outputs": [
    {
     "name": "stdout",
     "output_type": "stream",
     "text": [
      "Row: 5 and Column: 5\n"
     ]
    }
   ],
   "source": [
    "r,c = df.shape\n",
    "print(f'Row: {r} and Column: {r}')"
   ]
  },
  {
   "cell_type": "markdown",
   "id": "89dc9975-cd90-4f6a-9afa-12baf4921123",
   "metadata": {},
   "source": [
    "##values: in dataframe"
   ]
  },
  {
   "cell_type": "code",
   "execution_count": 20,
   "id": "9b4edc15-4180-4364-8ec3-81b3edbe2bd1",
   "metadata": {},
   "outputs": [
    {
     "name": "stdout",
     "output_type": "stream",
     "text": [
      "Students Value\n"
     ]
    },
    {
     "data": {
      "text/plain": [
       "array([['John', 20, 85],\n",
       "       ['Alice', 22, 90],\n",
       "       ['Bob', 21, 78],\n",
       "       ['Sara', 23, 92],\n",
       "       ['maya', 34, 34]], dtype=object)"
      ]
     },
     "execution_count": 20,
     "metadata": {},
     "output_type": "execute_result"
    }
   ],
   "source": [
    "print(\"Students Value\")\n",
    "df.values"
   ]
  },
  {
   "cell_type": "code",
   "execution_count": 21,
   "id": "8e40e61a-a2c1-4bca-904d-e2921ed59c13",
   "metadata": {},
   "outputs": [
    {
     "name": "stdout",
     "output_type": "stream",
     "text": [
      "Patient Value\n"
     ]
    },
    {
     "data": {
      "text/plain": [
       "array(['PAT-5b61868c', 'Ashley Waller', 0, '2025-05-21', '2025-06-04',\n",
       "       'ICU', 82], dtype=object)"
      ]
     },
     "execution_count": 21,
     "metadata": {},
     "output_type": "execute_result"
    }
   ],
   "source": [
    "print(\"Patient Value\")\n",
    "patients.values[1]"
   ]
  }
 ],
 "metadata": {
  "kernelspec": {
   "display_name": "Python [conda env:base] *",
   "language": "python",
   "name": "conda-base-py"
  },
  "language_info": {
   "codemirror_mode": {
    "name": "ipython",
    "version": 3
   },
   "file_extension": ".py",
   "mimetype": "text/x-python",
   "name": "python",
   "nbconvert_exporter": "python",
   "pygments_lexer": "ipython3",
   "version": "3.13.5"
  }
 },
 "nbformat": 4,
 "nbformat_minor": 5
}
