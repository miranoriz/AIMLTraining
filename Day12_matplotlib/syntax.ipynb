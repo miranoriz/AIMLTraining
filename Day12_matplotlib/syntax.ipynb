{
 "cells": [
  {
   "cell_type": "code",
   "execution_count": 1,
   "id": "c2b4b46d-f56e-4a8d-9911-fa9b2d5e4cb0",
   "metadata": {},
   "outputs": [],
   "source": [
    "import pandas as pd"
   ]
  },
  {
   "cell_type": "code",
   "execution_count": 2,
   "id": "943bb4a7-679d-45df-badf-391a1487f877",
   "metadata": {},
   "outputs": [],
   "source": [
    "import numpy as np"
   ]
  },
  {
   "cell_type": "code",
   "execution_count": 3,
   "id": "c2738625-b542-4743-b3c0-9731a4c3e910",
   "metadata": {},
   "outputs": [
    {
     "data": {
      "text/html": [
       "<div>\n",
       "<style scoped>\n",
       "    .dataframe tbody tr th:only-of-type {\n",
       "        vertical-align: middle;\n",
       "    }\n",
       "\n",
       "    .dataframe tbody tr th {\n",
       "        vertical-align: top;\n",
       "    }\n",
       "\n",
       "    .dataframe thead th {\n",
       "        text-align: right;\n",
       "    }\n",
       "</style>\n",
       "<table border=\"1\" class=\"dataframe\">\n",
       "  <thead>\n",
       "    <tr style=\"text-align: right;\">\n",
       "      <th></th>\n",
       "      <th>patient_id</th>\n",
       "      <th>name</th>\n",
       "      <th>age</th>\n",
       "      <th>arrival_date</th>\n",
       "      <th>departure_date</th>\n",
       "      <th>service</th>\n",
       "      <th>satisfaction</th>\n",
       "    </tr>\n",
       "  </thead>\n",
       "  <tbody>\n",
       "    <tr>\n",
       "      <th>0</th>\n",
       "      <td>PAT-09484753</td>\n",
       "      <td>Richard Rodriguez</td>\n",
       "      <td>24</td>\n",
       "      <td>2025-03-16</td>\n",
       "      <td>2025-03-22</td>\n",
       "      <td>surgery</td>\n",
       "      <td>61</td>\n",
       "    </tr>\n",
       "    <tr>\n",
       "      <th>1</th>\n",
       "      <td>PAT-f0644084</td>\n",
       "      <td>Shannon Walker</td>\n",
       "      <td>6</td>\n",
       "      <td>2025-12-13</td>\n",
       "      <td>2025-12-14</td>\n",
       "      <td>surgery</td>\n",
       "      <td>83</td>\n",
       "    </tr>\n",
       "    <tr>\n",
       "      <th>2</th>\n",
       "      <td>PAT-ac6162e4</td>\n",
       "      <td>Julia Torres</td>\n",
       "      <td>24</td>\n",
       "      <td>2025-06-29</td>\n",
       "      <td>2025-07-05</td>\n",
       "      <td>general_medicine</td>\n",
       "      <td>83</td>\n",
       "    </tr>\n",
       "    <tr>\n",
       "      <th>3</th>\n",
       "      <td>PAT-3dda2bb5</td>\n",
       "      <td>Crystal Johnson</td>\n",
       "      <td>32</td>\n",
       "      <td>2025-10-12</td>\n",
       "      <td>2025-10-23</td>\n",
       "      <td>emergency</td>\n",
       "      <td>81</td>\n",
       "    </tr>\n",
       "    <tr>\n",
       "      <th>4</th>\n",
       "      <td>PAT-08591375</td>\n",
       "      <td>Garrett Lin</td>\n",
       "      <td>25</td>\n",
       "      <td>2025-02-18</td>\n",
       "      <td>2025-02-25</td>\n",
       "      <td>ICU</td>\n",
       "      <td>76</td>\n",
       "    </tr>\n",
       "    <tr>\n",
       "      <th>...</th>\n",
       "      <td>...</td>\n",
       "      <td>...</td>\n",
       "      <td>...</td>\n",
       "      <td>...</td>\n",
       "      <td>...</td>\n",
       "      <td>...</td>\n",
       "      <td>...</td>\n",
       "    </tr>\n",
       "    <tr>\n",
       "      <th>995</th>\n",
       "      <td>PAT-a01bf534</td>\n",
       "      <td>Amber Vang</td>\n",
       "      <td>26</td>\n",
       "      <td>2025-12-02</td>\n",
       "      <td>2025-12-04</td>\n",
       "      <td>emergency</td>\n",
       "      <td>91</td>\n",
       "    </tr>\n",
       "    <tr>\n",
       "      <th>996</th>\n",
       "      <td>PAT-87fa07bd</td>\n",
       "      <td>Martha Smith</td>\n",
       "      <td>89</td>\n",
       "      <td>2025-11-18</td>\n",
       "      <td>2025-11-30</td>\n",
       "      <td>emergency</td>\n",
       "      <td>99</td>\n",
       "    </tr>\n",
       "    <tr>\n",
       "      <th>997</th>\n",
       "      <td>PAT-8f07e894</td>\n",
       "      <td>Jennifer James</td>\n",
       "      <td>72</td>\n",
       "      <td>2025-12-12</td>\n",
       "      <td>2025-12-21</td>\n",
       "      <td>ICU</td>\n",
       "      <td>69</td>\n",
       "    </tr>\n",
       "    <tr>\n",
       "      <th>998</th>\n",
       "      <td>PAT-4ae301e1</td>\n",
       "      <td>Kara Hernandez</td>\n",
       "      <td>47</td>\n",
       "      <td>2025-02-08</td>\n",
       "      <td>2025-02-20</td>\n",
       "      <td>ICU</td>\n",
       "      <td>61</td>\n",
       "    </tr>\n",
       "    <tr>\n",
       "      <th>999</th>\n",
       "      <td>PAT-e2ef9c5f</td>\n",
       "      <td>Lorraine Turner</td>\n",
       "      <td>64</td>\n",
       "      <td>2025-05-04</td>\n",
       "      <td>2025-05-08</td>\n",
       "      <td>general_medicine</td>\n",
       "      <td>83</td>\n",
       "    </tr>\n",
       "  </tbody>\n",
       "</table>\n",
       "<p>1000 rows × 7 columns</p>\n",
       "</div>"
      ],
      "text/plain": [
       "       patient_id               name  age arrival_date departure_date  \\\n",
       "0    PAT-09484753  Richard Rodriguez   24   2025-03-16     2025-03-22   \n",
       "1    PAT-f0644084     Shannon Walker    6   2025-12-13     2025-12-14   \n",
       "2    PAT-ac6162e4       Julia Torres   24   2025-06-29     2025-07-05   \n",
       "3    PAT-3dda2bb5    Crystal Johnson   32   2025-10-12     2025-10-23   \n",
       "4    PAT-08591375        Garrett Lin   25   2025-02-18     2025-02-25   \n",
       "..            ...                ...  ...          ...            ...   \n",
       "995  PAT-a01bf534         Amber Vang   26   2025-12-02     2025-12-04   \n",
       "996  PAT-87fa07bd       Martha Smith   89   2025-11-18     2025-11-30   \n",
       "997  PAT-8f07e894     Jennifer James   72   2025-12-12     2025-12-21   \n",
       "998  PAT-4ae301e1     Kara Hernandez   47   2025-02-08     2025-02-20   \n",
       "999  PAT-e2ef9c5f    Lorraine Turner   64   2025-05-04     2025-05-08   \n",
       "\n",
       "              service  satisfaction  \n",
       "0             surgery            61  \n",
       "1             surgery            83  \n",
       "2    general_medicine            83  \n",
       "3           emergency            81  \n",
       "4                 ICU            76  \n",
       "..                ...           ...  \n",
       "995         emergency            91  \n",
       "996         emergency            99  \n",
       "997               ICU            69  \n",
       "998               ICU            61  \n",
       "999  general_medicine            83  \n",
       "\n",
       "[1000 rows x 7 columns]"
      ]
     },
     "execution_count": 3,
     "metadata": {},
     "output_type": "execute_result"
    }
   ],
   "source": [
    "df = pd.read_csv(\"patients.csv\")\n",
    "df"
   ]
  },
  {
   "cell_type": "markdown",
   "id": "5b11efb0-3128-42ec-b99b-a63cf259d100",
   "metadata": {},
   "source": [
    "#### 1. Count value\n",
    "- count (.value_counts())\n",
    "- value  count"
   ]
  },
  {
   "cell_type": "code",
   "execution_count": 4,
   "id": "92288c33-1088-4ead-95d2-6825d27c21f6",
   "metadata": {},
   "outputs": [
    {
     "name": "stdout",
     "output_type": "stream",
     "text": [
      "service\n",
      "emergency           263\n",
      "surgery             254\n",
      "general_medicine    242\n",
      "ICU                 241\n",
      "Name: count, dtype: int64\n"
     ]
    }
   ],
   "source": [
    "services_count = df['service'].value_counts()\n",
    "print(services_count)"
   ]
  },
  {
   "cell_type": "markdown",
   "id": "2734e163-2bfe-4856-abbc-ac808b27af09",
   "metadata": {},
   "source": [
    "#### 2. Get index in count value"
   ]
  },
  {
   "cell_type": "code",
   "execution_count": 5,
   "id": "fe68d0c1-7908-47fb-b39b-25303487ec09",
   "metadata": {},
   "outputs": [
    {
     "name": "stdout",
     "output_type": "stream",
     "text": [
      "Index(['emergency', 'surgery', 'general_medicine', 'ICU'], dtype='object', name='service')\n"
     ]
    }
   ],
   "source": [
    "service_name = services_count.index\n",
    "print(service_name)"
   ]
  },
  {
   "cell_type": "markdown",
   "id": "b82ffc61-cd23-4b01-b6e1-4a5f7c7703bb",
   "metadata": {},
   "source": [
    "#### 3. Get value in dataframe\n",
    "- df['name']\n",
    "- (index,     value)"
   ]
  },
  {
   "cell_type": "code",
   "execution_count": 6,
   "id": "bf06d7dc-2568-4083-83c9-8e31d4877f3f",
   "metadata": {},
   "outputs": [
    {
     "name": "stdout",
     "output_type": "stream",
     "text": [
      "0               surgery\n",
      "1               surgery\n",
      "2      general_medicine\n",
      "3             emergency\n",
      "4                   ICU\n",
      "             ...       \n",
      "995           emergency\n",
      "996           emergency\n",
      "997                 ICU\n",
      "998                 ICU\n",
      "999    general_medicine\n",
      "Name: service, Length: 1000, dtype: object\n"
     ]
    }
   ],
   "source": [
    "service_name = df['service']\n",
    "print(service_name)"
   ]
  },
  {
   "cell_type": "markdown",
   "id": "a9bc97fe-32c5-4a5c-b0dd-27ea33f70fda",
   "metadata": {
    "jp-MarkdownHeadingCollapsed": true
   },
   "source": [
    "#### 4. Get all values in a row\n",
    "- df['name'].values\n",
    "- (index ,   all value in the row)"
   ]
  },
  {
   "cell_type": "code",
   "execution_count": 7,
   "id": "2259c108-495a-44c5-b1f8-82fde34bc72c",
   "metadata": {
    "collapsed": true,
    "jupyter": {
     "outputs_hidden": true
    }
   },
   "outputs": [
    {
     "name": "stdout",
     "output_type": "stream",
     "text": [
      "['surgery' 'surgery' 'general_medicine' 'emergency' 'ICU' 'emergency'\n",
      " 'emergency' 'ICU' 'general_medicine' 'emergency' 'ICU' 'general_medicine'\n",
      " 'general_medicine' 'emergency' 'surgery' 'general_medicine' 'emergency'\n",
      " 'general_medicine' 'emergency' 'emergency' 'ICU' 'general_medicine'\n",
      " 'general_medicine' 'general_medicine' 'ICU' 'emergency' 'surgery'\n",
      " 'emergency' 'surgery' 'ICU' 'ICU' 'surgery' 'ICU' 'surgery' 'surgery'\n",
      " 'emergency' 'surgery' 'emergency' 'general_medicine' 'general_medicine'\n",
      " 'surgery' 'emergency' 'general_medicine' 'emergency' 'ICU' 'surgery'\n",
      " 'ICU' 'general_medicine' 'general_medicine' 'surgery' 'emergency'\n",
      " 'emergency' 'general_medicine' 'emergency' 'emergency' 'ICU' 'emergency'\n",
      " 'ICU' 'general_medicine' 'ICU' 'surgery' 'general_medicine' 'ICU'\n",
      " 'general_medicine' 'ICU' 'emergency' 'general_medicine' 'emergency' 'ICU'\n",
      " 'general_medicine' 'ICU' 'ICU' 'emergency' 'ICU' 'emergency' 'surgery'\n",
      " 'surgery' 'ICU' 'general_medicine' 'ICU' 'emergency' 'surgery' 'ICU'\n",
      " 'emergency' 'surgery' 'emergency' 'emergency' 'surgery' 'ICU' 'emergency'\n",
      " 'emergency' 'emergency' 'surgery' 'general_medicine' 'ICU' 'surgery'\n",
      " 'emergency' 'ICU' 'ICU' 'emergency' 'ICU' 'general_medicine' 'emergency'\n",
      " 'general_medicine' 'surgery' 'surgery' 'general_medicine' 'emergency'\n",
      " 'surgery' 'ICU' 'general_medicine' 'ICU' 'ICU' 'emergency' 'surgery'\n",
      " 'surgery' 'general_medicine' 'emergency' 'general_medicine' 'surgery'\n",
      " 'emergency' 'general_medicine' 'surgery' 'ICU' 'general_medicine'\n",
      " 'surgery' 'ICU' 'ICU' 'emergency' 'surgery' 'emergency' 'surgery'\n",
      " 'general_medicine' 'surgery' 'ICU' 'emergency' 'ICU' 'ICU' 'surgery'\n",
      " 'emergency' 'emergency' 'emergency' 'emergency' 'general_medicine'\n",
      " 'surgery' 'emergency' 'emergency' 'emergency' 'ICU' 'ICU' 'surgery'\n",
      " 'surgery' 'emergency' 'surgery' 'general_medicine' 'surgery' 'emergency'\n",
      " 'general_medicine' 'general_medicine' 'emergency' 'emergency' 'ICU' 'ICU'\n",
      " 'surgery' 'general_medicine' 'emergency' 'emergency' 'surgery'\n",
      " 'emergency' 'ICU' 'general_medicine' 'general_medicine' 'ICU'\n",
      " 'general_medicine' 'surgery' 'emergency' 'emergency' 'emergency'\n",
      " 'emergency' 'surgery' 'surgery' 'emergency' 'emergency' 'surgery'\n",
      " 'surgery' 'general_medicine' 'surgery' 'surgery' 'general_medicine'\n",
      " 'general_medicine' 'general_medicine' 'surgery' 'ICU' 'surgery' 'ICU'\n",
      " 'surgery' 'emergency' 'emergency' 'emergency' 'surgery' 'emergency' 'ICU'\n",
      " 'general_medicine' 'emergency' 'emergency' 'surgery' 'surgery' 'ICU'\n",
      " 'emergency' 'emergency' 'ICU' 'surgery' 'general_medicine' 'ICU'\n",
      " 'emergency' 'surgery' 'general_medicine' 'surgery' 'emergency'\n",
      " 'general_medicine' 'emergency' 'ICU' 'ICU' 'surgery' 'surgery' 'ICU'\n",
      " 'ICU' 'general_medicine' 'ICU' 'general_medicine' 'emergency' 'ICU'\n",
      " 'emergency' 'general_medicine' 'surgery' 'ICU' 'surgery'\n",
      " 'general_medicine' 'emergency' 'emergency' 'surgery' 'surgery'\n",
      " 'general_medicine' 'surgery' 'emergency' 'surgery' 'emergency' 'surgery'\n",
      " 'ICU' 'emergency' 'ICU' 'surgery' 'emergency' 'surgery'\n",
      " 'general_medicine' 'ICU' 'general_medicine' 'general_medicine'\n",
      " 'emergency' 'surgery' 'ICU' 'general_medicine' 'surgery' 'emergency'\n",
      " 'general_medicine' 'surgery' 'emergency' 'ICU' 'surgery'\n",
      " 'general_medicine' 'general_medicine' 'surgery' 'surgery'\n",
      " 'general_medicine' 'emergency' 'ICU' 'general_medicine' 'emergency'\n",
      " 'general_medicine' 'general_medicine' 'emergency' 'general_medicine'\n",
      " 'surgery' 'emergency' 'emergency' 'emergency' 'ICU' 'surgery' 'emergency'\n",
      " 'emergency' 'ICU' 'surgery' 'ICU' 'general_medicine' 'ICU' 'ICU' 'ICU'\n",
      " 'ICU' 'emergency' 'ICU' 'general_medicine' 'ICU' 'general_medicine'\n",
      " 'surgery' 'emergency' 'ICU' 'surgery' 'ICU' 'surgery' 'general_medicine'\n",
      " 'surgery' 'emergency' 'surgery' 'surgery' 'surgery' 'ICU'\n",
      " 'general_medicine' 'emergency' 'ICU' 'general_medicine'\n",
      " 'general_medicine' 'surgery' 'general_medicine' 'surgery'\n",
      " 'general_medicine' 'surgery' 'emergency' 'surgery' 'surgery' 'surgery'\n",
      " 'emergency' 'ICU' 'ICU' 'emergency' 'surgery' 'emergency' 'emergency'\n",
      " 'surgery' 'surgery' 'ICU' 'ICU' 'surgery' 'emergency' 'general_medicine'\n",
      " 'general_medicine' 'surgery' 'surgery' 'surgery' 'general_medicine'\n",
      " 'emergency' 'general_medicine' 'emergency' 'emergency' 'surgery' 'ICU'\n",
      " 'surgery' 'ICU' 'ICU' 'general_medicine' 'ICU' 'surgery'\n",
      " 'general_medicine' 'surgery' 'ICU' 'general_medicine' 'emergency'\n",
      " 'emergency' 'ICU' 'ICU' 'surgery' 'emergency' 'emergency' 'surgery'\n",
      " 'surgery' 'surgery' 'ICU' 'general_medicine' 'emergency'\n",
      " 'general_medicine' 'ICU' 'surgery' 'ICU' 'emergency' 'general_medicine'\n",
      " 'general_medicine' 'ICU' 'ICU' 'surgery' 'ICU' 'surgery' 'ICU' 'ICU'\n",
      " 'surgery' 'ICU' 'general_medicine' 'emergency' 'general_medicine'\n",
      " 'general_medicine' 'surgery' 'ICU' 'surgery' 'general_medicine' 'ICU'\n",
      " 'ICU' 'ICU' 'general_medicine' 'general_medicine' 'ICU' 'emergency'\n",
      " 'surgery' 'emergency' 'general_medicine' 'emergency' 'emergency'\n",
      " 'emergency' 'general_medicine' 'general_medicine' 'surgery'\n",
      " 'general_medicine' 'emergency' 'surgery' 'emergency' 'general_medicine'\n",
      " 'general_medicine' 'ICU' 'emergency' 'emergency' 'surgery' 'ICU' 'ICU'\n",
      " 'emergency' 'ICU' 'ICU' 'emergency' 'general_medicine' 'general_medicine'\n",
      " 'general_medicine' 'ICU' 'general_medicine' 'ICU' 'ICU' 'ICU' 'emergency'\n",
      " 'surgery' 'emergency' 'ICU' 'surgery' 'emergency' 'surgery'\n",
      " 'general_medicine' 'emergency' 'emergency' 'emergency' 'general_medicine'\n",
      " 'ICU' 'emergency' 'surgery' 'emergency' 'emergency' 'surgery' 'surgery'\n",
      " 'emergency' 'general_medicine' 'general_medicine' 'surgery' 'ICU'\n",
      " 'emergency' 'ICU' 'emergency' 'emergency' 'general_medicine'\n",
      " 'general_medicine' 'general_medicine' 'ICU' 'general_medicine'\n",
      " 'general_medicine' 'ICU' 'ICU' 'general_medicine' 'general_medicine'\n",
      " 'ICU' 'emergency' 'general_medicine' 'ICU' 'emergency' 'surgery'\n",
      " 'emergency' 'surgery' 'surgery' 'emergency' 'ICU' 'emergency'\n",
      " 'general_medicine' 'surgery' 'general_medicine' 'ICU' 'ICU' 'emergency'\n",
      " 'general_medicine' 'emergency' 'general_medicine' 'emergency'\n",
      " 'general_medicine' 'surgery' 'surgery' 'general_medicine' 'emergency'\n",
      " 'general_medicine' 'emergency' 'general_medicine' 'ICU' 'emergency'\n",
      " 'surgery' 'general_medicine' 'emergency' 'surgery' 'ICU' 'ICU'\n",
      " 'general_medicine' 'emergency' 'emergency' 'general_medicine' 'emergency'\n",
      " 'general_medicine' 'surgery' 'general_medicine' 'emergency' 'surgery'\n",
      " 'surgery' 'emergency' 'general_medicine' 'general_medicine' 'emergency'\n",
      " 'emergency' 'surgery' 'surgery' 'surgery' 'surgery' 'general_medicine'\n",
      " 'surgery' 'emergency' 'general_medicine' 'surgery' 'general_medicine'\n",
      " 'surgery' 'general_medicine' 'general_medicine' 'general_medicine'\n",
      " 'surgery' 'emergency' 'emergency' 'surgery' 'general_medicine' 'ICU'\n",
      " 'emergency' 'general_medicine' 'emergency' 'ICU' 'general_medicine'\n",
      " 'surgery' 'surgery' 'general_medicine' 'emergency' 'ICU' 'ICU' 'ICU'\n",
      " 'ICU' 'emergency' 'ICU' 'emergency' 'surgery' 'general_medicine'\n",
      " 'surgery' 'surgery' 'ICU' 'ICU' 'emergency' 'emergency' 'surgery'\n",
      " 'general_medicine' 'general_medicine' 'ICU' 'emergency' 'emergency'\n",
      " 'surgery' 'general_medicine' 'surgery' 'general_medicine' 'surgery'\n",
      " 'emergency' 'general_medicine' 'emergency' 'surgery' 'surgery' 'ICU'\n",
      " 'surgery' 'emergency' 'surgery' 'surgery' 'emergency' 'ICU' 'ICU'\n",
      " 'general_medicine' 'emergency' 'surgery' 'surgery' 'emergency' 'surgery'\n",
      " 'surgery' 'general_medicine' 'surgery' 'emergency' 'surgery' 'surgery'\n",
      " 'ICU' 'emergency' 'surgery' 'general_medicine' 'emergency'\n",
      " 'general_medicine' 'surgery' 'emergency' 'surgery' 'ICU' 'emergency'\n",
      " 'emergency' 'general_medicine' 'general_medicine' 'general_medicine'\n",
      " 'emergency' 'surgery' 'emergency' 'surgery' 'general_medicine'\n",
      " 'emergency' 'ICU' 'emergency' 'general_medicine' 'surgery' 'emergency'\n",
      " 'surgery' 'surgery' 'general_medicine' 'emergency' 'surgery' 'ICU'\n",
      " 'emergency' 'surgery' 'emergency' 'ICU' 'emergency' 'emergency' 'surgery'\n",
      " 'general_medicine' 'general_medicine' 'surgery' 'general_medicine'\n",
      " 'general_medicine' 'surgery' 'surgery' 'general_medicine' 'surgery'\n",
      " 'general_medicine' 'ICU' 'ICU' 'ICU' 'ICU' 'general_medicine'\n",
      " 'general_medicine' 'ICU' 'general_medicine' 'emergency' 'emergency'\n",
      " 'surgery' 'surgery' 'emergency' 'general_medicine' 'emergency' 'surgery'\n",
      " 'surgery' 'surgery' 'emergency' 'emergency' 'general_medicine' 'ICU'\n",
      " 'surgery' 'general_medicine' 'surgery' 'general_medicine'\n",
      " 'general_medicine' 'emergency' 'ICU' 'general_medicine'\n",
      " 'general_medicine' 'ICU' 'emergency' 'emergency' 'ICU' 'surgery'\n",
      " 'surgery' 'general_medicine' 'general_medicine' 'emergency'\n",
      " 'general_medicine' 'general_medicine' 'ICU' 'surgery' 'ICU' 'surgery'\n",
      " 'general_medicine' 'surgery' 'general_medicine' 'general_medicine'\n",
      " 'surgery' 'emergency' 'ICU' 'ICU' 'surgery' 'ICU' 'ICU' 'surgery'\n",
      " 'emergency' 'surgery' 'ICU' 'ICU' 'emergency' 'emergency' 'ICU'\n",
      " 'emergency' 'general_medicine' 'emergency' 'ICU' 'general_medicine'\n",
      " 'surgery' 'surgery' 'surgery' 'surgery' 'emergency' 'general_medicine'\n",
      " 'surgery' 'emergency' 'general_medicine' 'surgery' 'ICU' 'emergency'\n",
      " 'surgery' 'emergency' 'emergency' 'ICU' 'ICU' 'ICU' 'emergency'\n",
      " 'emergency' 'surgery' 'general_medicine' 'surgery' 'general_medicine'\n",
      " 'emergency' 'ICU' 'general_medicine' 'ICU' 'ICU' 'general_medicine' 'ICU'\n",
      " 'emergency' 'surgery' 'ICU' 'general_medicine' 'emergency' 'surgery'\n",
      " 'surgery' 'surgery' 'emergency' 'surgery' 'emergency' 'general_medicine'\n",
      " 'surgery' 'surgery' 'ICU' 'ICU' 'general_medicine' 'general_medicine'\n",
      " 'ICU' 'emergency' 'ICU' 'ICU' 'general_medicine' 'surgery' 'emergency'\n",
      " 'ICU' 'surgery' 'ICU' 'general_medicine' 'surgery' 'general_medicine'\n",
      " 'ICU' 'emergency' 'general_medicine' 'ICU' 'surgery' 'general_medicine'\n",
      " 'ICU' 'emergency' 'emergency' 'general_medicine' 'emergency'\n",
      " 'general_medicine' 'general_medicine' 'surgery' 'ICU' 'ICU'\n",
      " 'general_medicine' 'emergency' 'ICU' 'general_medicine' 'ICU' 'surgery'\n",
      " 'general_medicine' 'general_medicine' 'ICU' 'ICU' 'ICU' 'emergency'\n",
      " 'general_medicine' 'surgery' 'surgery' 'emergency' 'ICU' 'surgery' 'ICU'\n",
      " 'ICU' 'emergency' 'ICU' 'surgery' 'ICU' 'ICU' 'ICU' 'emergency' 'surgery'\n",
      " 'emergency' 'emergency' 'surgery' 'ICU' 'ICU' 'surgery' 'ICU'\n",
      " 'general_medicine' 'general_medicine' 'emergency' 'surgery' 'ICU'\n",
      " 'surgery' 'general_medicine' 'ICU' 'ICU' 'surgery' 'surgery' 'emergency'\n",
      " 'emergency' 'surgery' 'emergency' 'emergency' 'general_medicine'\n",
      " 'emergency' 'ICU' 'ICU' 'general_medicine' 'ICU' 'general_medicine' 'ICU'\n",
      " 'emergency' 'general_medicine' 'general_medicine' 'emergency' 'surgery'\n",
      " 'general_medicine' 'general_medicine' 'general_medicine' 'surgery'\n",
      " 'general_medicine' 'emergency' 'surgery' 'surgery' 'general_medicine'\n",
      " 'ICU' 'ICU' 'ICU' 'general_medicine' 'ICU' 'ICU' 'emergency' 'ICU' 'ICU'\n",
      " 'ICU' 'surgery' 'ICU' 'emergency' 'emergency' 'emergency'\n",
      " 'general_medicine' 'ICU' 'emergency' 'emergency' 'general_medicine'\n",
      " 'emergency' 'general_medicine' 'general_medicine' 'ICU'\n",
      " 'general_medicine' 'general_medicine' 'emergency' 'emergency' 'surgery'\n",
      " 'emergency' 'ICU' 'emergency' 'emergency' 'emergency' 'emergency'\n",
      " 'surgery' 'surgery' 'surgery' 'emergency' 'general_medicine'\n",
      " 'general_medicine' 'general_medicine' 'ICU' 'general_medicine' 'ICU'\n",
      " 'ICU' 'general_medicine' 'ICU' 'general_medicine' 'general_medicine'\n",
      " 'surgery' 'ICU' 'surgery' 'ICU' 'surgery' 'surgery' 'ICU' 'ICU'\n",
      " 'general_medicine' 'emergency' 'surgery' 'emergency' 'ICU' 'emergency'\n",
      " 'surgery' 'ICU' 'ICU' 'surgery' 'general_medicine' 'general_medicine'\n",
      " 'general_medicine' 'emergency' 'emergency' 'surgery' 'emergency'\n",
      " 'general_medicine' 'general_medicine' 'surgery' 'emergency' 'ICU' 'ICU'\n",
      " 'surgery' 'general_medicine' 'surgery' 'ICU' 'general_medicine' 'surgery'\n",
      " 'surgery' 'ICU' 'surgery' 'ICU' 'general_medicine' 'surgery' 'surgery'\n",
      " 'ICU' 'ICU' 'general_medicine' 'general_medicine' 'ICU'\n",
      " 'general_medicine' 'ICU' 'emergency' 'surgery' 'ICU' 'surgery'\n",
      " 'general_medicine' 'ICU' 'surgery' 'ICU' 'ICU' 'emergency' 'emergency'\n",
      " 'emergency' 'ICU' 'ICU' 'general_medicine']\n"
     ]
    }
   ],
   "source": [
    "service_name = df['service'].values\n",
    "print(service_name)"
   ]
  },
  {
   "cell_type": "markdown",
   "id": "dc5d85c9-83a4-4051-ab8e-466a33d01df2",
   "metadata": {},
   "source": [
    "#### 5. Get unique value in a row\n",
    "- pd.unique(df['name'])\n",
    "- (unique name)"
   ]
  },
  {
   "cell_type": "code",
   "execution_count": 8,
   "id": "bad95869-ad88-462d-a5f4-1df238c35fe7",
   "metadata": {},
   "outputs": [
    {
     "name": "stdout",
     "output_type": "stream",
     "text": [
      "['surgery' 'general_medicine' 'emergency' 'ICU']\n"
     ]
    }
   ],
   "source": [
    "service_name = pd.unique(df['service'])\n",
    "print(service_name)"
   ]
  },
  {
   "cell_type": "markdown",
   "id": "98f45215-b453-47cb-b638-c0bc3d368244",
   "metadata": {},
   "source": [
    "#### 6. Save data to other file\n",
    "- to.excel(),index=False"
   ]
  },
  {
   "cell_type": "code",
   "execution_count": null,
   "id": "7c8da9fc-dd96-45c9-99b4-3d9e03bd30da",
   "metadata": {},
   "outputs": [],
   "source": [
    "service_name.to_excel(\"service_name.xlsx\", index=False)"
   ]
  },
  {
   "cell_type": "markdown",
   "id": "6e2912e0-8de8-4d83-964b-a1d56cb7d86b",
   "metadata": {},
   "source": [
    "#### 7. Group the data by each Value1, then calculate the average (mean) of Value2 for each group\n",
    "- avg = df.groupby('value1')['value2'].mean()"
   ]
  },
  {
   "cell_type": "code",
   "execution_count": 12,
   "id": "f63edce2-1342-4ee6-b89b-8ed0afec9b69",
   "metadata": {},
   "outputs": [
    {
     "name": "stdout",
     "output_type": "stream",
     "text": [
      "service\n",
      "ICU                 79.921162\n",
      "emergency           79.547529\n",
      "general_medicine    78.574380\n",
      "surgery             80.314961\n",
      "Name: satisfaction, dtype: float64\n"
     ]
    }
   ],
   "source": [
    "avg_calories = df.groupby('service')['satisfaction'].mean()\n",
    "print(avg_calories )"
   ]
  },
  {
   "cell_type": "markdown",
   "id": "e7c304c9-ae41-475c-bdfa-fd8d4e7e9f96",
   "metadata": {},
   "source": [
    "#### 8. Reset Index\n",
    "- .reset_index()\n",
    "- Converts that index back into a normal column"
   ]
  },
  {
   "cell_type": "code",
   "execution_count": 13,
   "id": "2303d73e-8ec1-4083-a320-c2502da9b9a0",
   "metadata": {},
   "outputs": [
    {
     "name": "stdout",
     "output_type": "stream",
     "text": [
      "            service  satisfaction\n",
      "0               ICU     79.921162\n",
      "1         emergency     79.547529\n",
      "2  general_medicine     78.574380\n",
      "3           surgery     80.314961\n"
     ]
    }
   ],
   "source": [
    "avg_calories = df.groupby('service')['satisfaction'].mean().reset_index()\n",
    "print(avg_calories )"
   ]
  }
 ],
 "metadata": {
  "kernelspec": {
   "display_name": "Python [conda env:base] *",
   "language": "python",
   "name": "conda-base-py"
  },
  "language_info": {
   "codemirror_mode": {
    "name": "ipython",
    "version": 3
   },
   "file_extension": ".py",
   "mimetype": "text/x-python",
   "name": "python",
   "nbconvert_exporter": "python",
   "pygments_lexer": "ipython3",
   "version": "3.13.5"
  }
 },
 "nbformat": 4,
 "nbformat_minor": 5
}
