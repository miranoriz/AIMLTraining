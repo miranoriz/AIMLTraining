{
 "cells": [
  {
   "cell_type": "code",
   "execution_count": 2,
   "id": "5d4e5f3d-a558-495d-8850-7562b304e3d6",
   "metadata": {},
   "outputs": [],
   "source": [
    "import pandas as pd\n",
    "import matplotlib.pyplot as plt\n",
    "import numpy as np"
   ]
  },
  {
   "cell_type": "code",
   "execution_count": 3,
   "id": "d9b50d10-9465-4781-a33e-666e8fe1a278",
   "metadata": {},
   "outputs": [
    {
     "data": {
      "text/html": [
       "<div>\n",
       "<style scoped>\n",
       "    .dataframe tbody tr th:only-of-type {\n",
       "        vertical-align: middle;\n",
       "    }\n",
       "\n",
       "    .dataframe tbody tr th {\n",
       "        vertical-align: top;\n",
       "    }\n",
       "\n",
       "    .dataframe thead th {\n",
       "        text-align: right;\n",
       "    }\n",
       "</style>\n",
       "<table border=\"1\" class=\"dataframe\">\n",
       "  <thead>\n",
       "    <tr style=\"text-align: right;\">\n",
       "      <th></th>\n",
       "      <th>show_id</th>\n",
       "      <th>type</th>\n",
       "      <th>title</th>\n",
       "      <th>director</th>\n",
       "      <th>cast</th>\n",
       "      <th>country</th>\n",
       "      <th>date_added</th>\n",
       "      <th>release_year</th>\n",
       "      <th>duration</th>\n",
       "      <th>description</th>\n",
       "      <th>genre</th>\n",
       "    </tr>\n",
       "  </thead>\n",
       "  <tbody>\n",
       "    <tr>\n",
       "      <th>0</th>\n",
       "      <td>s1</td>\n",
       "      <td>TV Show</td>\n",
       "      <td>3%</td>\n",
       "      <td>NaN</td>\n",
       "      <td>João Miguel, Bianca Comparato, Michel Gomes, R...</td>\n",
       "      <td>Brazil</td>\n",
       "      <td>August 14, 2020</td>\n",
       "      <td>2020</td>\n",
       "      <td>4</td>\n",
       "      <td>In a future where the elite inhabit an island ...</td>\n",
       "      <td>International TV</td>\n",
       "    </tr>\n",
       "    <tr>\n",
       "      <th>1</th>\n",
       "      <td>s2</td>\n",
       "      <td>Movie</td>\n",
       "      <td>7:19</td>\n",
       "      <td>Jorge Michel Grau</td>\n",
       "      <td>Demián Bichir, Héctor Bonilla, Oscar Serrano, ...</td>\n",
       "      <td>Mexico</td>\n",
       "      <td>December 23, 2016</td>\n",
       "      <td>2016</td>\n",
       "      <td>93</td>\n",
       "      <td>After a devastating earthquake hits Mexico Cit...</td>\n",
       "      <td>Dramas</td>\n",
       "    </tr>\n",
       "    <tr>\n",
       "      <th>2</th>\n",
       "      <td>s3</td>\n",
       "      <td>Movie</td>\n",
       "      <td>23:59</td>\n",
       "      <td>Gilbert Chan</td>\n",
       "      <td>Tedd Chan, Stella Chung, Henley Hii, Lawrence ...</td>\n",
       "      <td>Singapore</td>\n",
       "      <td>December 20, 2018</td>\n",
       "      <td>2011</td>\n",
       "      <td>78</td>\n",
       "      <td>When an army recruit is found dead, his fellow...</td>\n",
       "      <td>Horror Movies</td>\n",
       "    </tr>\n",
       "    <tr>\n",
       "      <th>3</th>\n",
       "      <td>s4</td>\n",
       "      <td>Movie</td>\n",
       "      <td>9</td>\n",
       "      <td>Shane Acker</td>\n",
       "      <td>Elijah Wood, John C. Reilly, Jennifer Connelly...</td>\n",
       "      <td>United States</td>\n",
       "      <td>November 16, 2017</td>\n",
       "      <td>2009</td>\n",
       "      <td>80</td>\n",
       "      <td>In a postapocalyptic world, rag-doll robots hi...</td>\n",
       "      <td>Action</td>\n",
       "    </tr>\n",
       "    <tr>\n",
       "      <th>4</th>\n",
       "      <td>s5</td>\n",
       "      <td>Movie</td>\n",
       "      <td>21</td>\n",
       "      <td>Robert Luketic</td>\n",
       "      <td>Jim Sturgess, Kevin Spacey, Kate Bosworth, Aar...</td>\n",
       "      <td>United States</td>\n",
       "      <td>January 1, 2020</td>\n",
       "      <td>2008</td>\n",
       "      <td>123</td>\n",
       "      <td>A brilliant group of students become card-coun...</td>\n",
       "      <td>Dramas</td>\n",
       "    </tr>\n",
       "  </tbody>\n",
       "</table>\n",
       "</div>"
      ],
      "text/plain": [
       "  show_id     type  title           director  \\\n",
       "0      s1  TV Show     3%                NaN   \n",
       "1      s2    Movie   7:19  Jorge Michel Grau   \n",
       "2      s3    Movie  23:59       Gilbert Chan   \n",
       "3      s4    Movie      9        Shane Acker   \n",
       "4      s5    Movie     21     Robert Luketic   \n",
       "\n",
       "                                                cast        country  \\\n",
       "0  João Miguel, Bianca Comparato, Michel Gomes, R...         Brazil   \n",
       "1  Demián Bichir, Héctor Bonilla, Oscar Serrano, ...         Mexico   \n",
       "2  Tedd Chan, Stella Chung, Henley Hii, Lawrence ...      Singapore   \n",
       "3  Elijah Wood, John C. Reilly, Jennifer Connelly...  United States   \n",
       "4  Jim Sturgess, Kevin Spacey, Kate Bosworth, Aar...  United States   \n",
       "\n",
       "          date_added  release_year  duration  \\\n",
       "0    August 14, 2020          2020         4   \n",
       "1  December 23, 2016          2016        93   \n",
       "2  December 20, 2018          2011        78   \n",
       "3  November 16, 2017          2009        80   \n",
       "4    January 1, 2020          2008       123   \n",
       "\n",
       "                                         description             genre  \n",
       "0  In a future where the elite inhabit an island ...  International TV  \n",
       "1  After a devastating earthquake hits Mexico Cit...            Dramas  \n",
       "2  When an army recruit is found dead, his fellow...     Horror Movies  \n",
       "3  In a postapocalyptic world, rag-doll robots hi...            Action  \n",
       "4  A brilliant group of students become card-coun...            Dramas  "
      ]
     },
     "execution_count": 3,
     "metadata": {},
     "output_type": "execute_result"
    }
   ],
   "source": [
    "df = pd.read_csv(\"netflix_data.csv\")\n",
    "df.head()"
   ]
  },
  {
   "cell_type": "markdown",
   "id": "fbd95975-5a91-4844-b99a-bc3f5524917a",
   "metadata": {},
   "source": [
    "#### dropna() and astype()\n",
    "\n",
    "- dropna() → removes rows containing missing values (NaN = “Not a Number”).\n",
    "- astype(int) → converts the values in that column to integers (whole numbers)."
   ]
  },
  {
   "cell_type": "code",
   "execution_count": 4,
   "id": "05e25008-9046-46ec-9741-16f62b424c99",
   "metadata": {},
   "outputs": [],
   "source": [
    "df = df.dropna(subset=['release_year'])\n",
    "df['release_year']=df['release_year'].astype(int)"
   ]
  },
  {
   "cell_type": "code",
   "execution_count": 5,
   "id": "a7d41e3a-bcde-497f-854b-82adf7d62126",
   "metadata": {
    "scrolled": true
   },
   "outputs": [
    {
     "data": {
      "image/png": "[encoded data removed]",
      "text/plain": [
       "<Figure size 1000x300 with 1 Axes>"
      ]
     },
     "metadata": {},
     "output_type": "display_data"
    }
   ],
   "source": [
    "plt.figure(figsize=(10,3))\n",
    "plt.hist(df['release_year'], bins=50, color='khaki', edgecolor='darkblue', alpha=0.8)\n",
    "plt.title(\"Netflix Release Title by Year\")\n",
    "plt.xlabel(\"Release Date\")\n",
    "plt.ylabel(\"Number of Title\")\n",
    "plt.grid('b--',linewidth=0.7)\n",
    "plt.savefig(\"netflix_Data.png\", bbox_inches=\"tight\", dpi=100)\n",
    "plt.show()"
   ]
  },
  {
   "cell_type": "code",
   "execution_count": 6,
   "id": "50f550e3-670c-483f-b5f5-df1b4e2a9bc6",
   "metadata": {},
   "outputs": [],
   "source": [
    "df = df.dropna(subset=['release_year','type'])\n",
    "movie = df[df['type']=='Movie']\n",
    "shows = df[df['type']=='TV Show']"
   ]
  },
  {
   "cell_type": "code",
   "execution_count": 8,
   "id": "47ee6211-e7dc-4243-9bfd-39bd21629fe9",
   "metadata": {},
   "outputs": [
    {
     "data": {
      "image/png": "[encoded data removed]",
      "text/plain": [
       "<Figure size 1000x500 with 1 Axes>"
      ]
     },
     "metadata": {},
     "output_type": "display_data"
    }
   ],
   "source": [
    "plt.figure(figsize=(10,5))\n",
    "plt.hist([movie['release_year'],shows['release_year']], bins=10, color=['khaki','blue'], edgecolor='darkblue', label= ['Movie',\"TV Shows\"])\n",
    "plt.title(\"Netflix Release Title by Year\")\n",
    "plt.xlabel(\"Release Date\")\n",
    "plt.ylabel(\"Number of Title\")\n",
    "plt.grid('b--',linewidth=0.2)\n",
    "plt.legend(title='Netflix',loc='upper left')\n",
    "plt.savefig(\"movieshow_Data.png\", bbox_inches=\"tight\", dpi=100)\n",
    "plt.show()"
   ]
  },
  {
   "cell_type": "markdown",
   "id": "b9c06f0b-c752-45c6-9fe5-2c61aaec15dd",
   "metadata": {},
   "source": [
    "- Print how many movie and tv shows are available and netflix\n",
    "- display movie and tv show proportion in a pie plot\n",
    "- save file as pdf"
   ]
  },
  {
   "cell_type": "code",
   "execution_count": null,
   "id": "839453c1-cbf3-4f9e-af61-d2850297ac9a",
   "metadata": {},
   "outputs": [],
   "source": [
    "movies = int(df['type'].value_counts()['Movie'])\n",
    "tv_shows = int(df['type'].value_counts()['TV Show'])\n",
    "types = ['Movie','TV Shows']\n",
    "count = [movies,tv_shows]\n",
    "print(count)"
   ]
  },
  {
   "cell_type": "code",
   "execution_count": null,
   "id": "7284b731-890e-4554-b3ec-6610f286354c",
   "metadata": {},
   "outputs": [],
   "source": [
    "plt.figure(figsize=(10,5))\n",
    "plt.pie(count, labels=types, autopct='%1.1f%%',colors=['lightpink','lightblue'],startangle=140,shadow=True)\n",
    "plt.title('Proportion of TV Show and Movie')\n",
    "plt.savefig(\"Proportion_TV Show_Movie_Netflix.pdf\",  bbox_inches=\"tight\")\n",
    "plt.show()"
   ]
  },
  {
   "cell_type": "code",
   "execution_count": null,
   "id": "ef5be36e-1cb8-4684-b0f2-5b70a28a3aeb",
   "metadata": {},
   "outputs": [],
   "source": [
    "type_count = df['type'].value_counts()\n",
    "print(type_count)"
   ]
  },
  {
   "cell_type": "code",
   "execution_count": null,
   "id": "c7bdb16e-38a5-4024-9b03-38d2341b00e3",
   "metadata": {},
   "outputs": [],
   "source": [
    "print (type_count.index)\n",
    "print (type_count.values)"
   ]
  },
  {
   "cell_type": "code",
   "execution_count": null,
   "id": "eade3c01-1986-4347-97b4-2d93d6ec2ac0",
   "metadata": {},
   "outputs": [],
   "source": [
    "plt.figure(figsize=(10,5))\n",
    "plt.pie(type_count,labels=type_count.index,colors=['lightpink','lightblue'],startangle=140,shadow=True,autopct=lambda p: f'{p:.1f}%\\n({int(round(p*sum(type_count)/100))}')\n",
    "plt.title('Movies and Shows')\n",
    "plt.legend(title='Type of Show')\n",
    "plt.savefig(\"Proportion_TV Show_Movie_Netflix.pdf\",  bbox_inches=\"tight\")\n",
    "plt.show()"
   ]
  }
 ],
 "metadata": {
  "kernelspec": {
   "display_name": "Python [conda env:base] *",
   "language": "python",
   "name": "conda-base-py"
  },
  "language_info": {
   "codemirror_mode": {
    "name": "ipython",
    "version": 3
   },
   "file_extension": ".py",
   "mimetype": "text/x-python",
   "name": "python",
   "nbconvert_exporter": "python",
   "pygments_lexer": "ipython3",
   "version": "3.13.5"
  }
 },
 "nbformat": 4,
 "nbformat_minor": 5
}
