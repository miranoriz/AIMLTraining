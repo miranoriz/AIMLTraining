{
 "cells": [
  {
   "cell_type": "code",
   "execution_count": null,
   "id": "495fc896-1e7d-4e05-bd43-31381f4bc038",
   "metadata": {},
   "outputs": [],
   "source": [
    "Teach a model to predict Marks based on Hours studied."
   ]
  },
  {
   "cell_type": "code",
   "execution_count": 2,
   "id": "ef81ea95-cfee-4639-9d39-8ec348ff46db",
   "metadata": {},
   "outputs": [],
   "source": [
    "import pandas as pd\n",
    "from sklearn.model_selection import train_test_split\n",
    "from sklearn.linear_model import LinearRegression"
   ]
  },
  {
   "cell_type": "code",
   "execution_count": 6,
   "id": "1d2fbcca-5db8-40a1-8c81-875857cc3db7",
   "metadata": {},
   "outputs": [
    {
     "data": {
      "text/html": [
       "<div>\n",
       "<style scoped>\n",
       "    .dataframe tbody tr th:only-of-type {\n",
       "        vertical-align: middle;\n",
       "    }\n",
       "\n",
       "    .dataframe tbody tr th {\n",
       "        vertical-align: top;\n",
       "    }\n",
       "\n",
       "    .dataframe thead th {\n",
       "        text-align: right;\n",
       "    }\n",
       "</style>\n",
       "<table border=\"1\" class=\"dataframe\">\n",
       "  <thead>\n",
       "    <tr style=\"text-align: right;\">\n",
       "      <th></th>\n",
       "      <th>Hours</th>\n",
       "      <th>Marks</th>\n",
       "    </tr>\n",
       "  </thead>\n",
       "  <tbody>\n",
       "    <tr>\n",
       "      <th>0</th>\n",
       "      <td>1</td>\n",
       "      <td>25</td>\n",
       "    </tr>\n",
       "    <tr>\n",
       "      <th>1</th>\n",
       "      <td>2</td>\n",
       "      <td>35</td>\n",
       "    </tr>\n",
       "    <tr>\n",
       "      <th>2</th>\n",
       "      <td>3</td>\n",
       "      <td>45</td>\n",
       "    </tr>\n",
       "    <tr>\n",
       "      <th>3</th>\n",
       "      <td>4</td>\n",
       "      <td>50</td>\n",
       "    </tr>\n",
       "    <tr>\n",
       "      <th>4</th>\n",
       "      <td>5</td>\n",
       "      <td>55</td>\n",
       "    </tr>\n",
       "    <tr>\n",
       "      <th>5</th>\n",
       "      <td>6</td>\n",
       "      <td>65</td>\n",
       "    </tr>\n",
       "    <tr>\n",
       "      <th>6</th>\n",
       "      <td>7</td>\n",
       "      <td>70</td>\n",
       "    </tr>\n",
       "    <tr>\n",
       "      <th>7</th>\n",
       "      <td>8</td>\n",
       "      <td>80</td>\n",
       "    </tr>\n",
       "  </tbody>\n",
       "</table>\n",
       "</div>"
      ],
      "text/plain": [
       "   Hours  Marks\n",
       "0      1     25\n",
       "1      2     35\n",
       "2      3     45\n",
       "3      4     50\n",
       "4      5     55\n",
       "5      6     65\n",
       "6      7     70\n",
       "7      8     80"
      ]
     },
     "execution_count": 6,
     "metadata": {},
     "output_type": "execute_result"
    }
   ],
   "source": [
    "data = {\n",
    "    'Hours' :[1, 2, 3, 4, 5, 6, 7, 8],\n",
    "    'Marks': [25, 35,45,50,55,65,70,80]\n",
    "       }\n",
    "\n",
    "df = pd.DataFrame(data)\n",
    "df"
   ]
  },
  {
   "cell_type": "code",
   "execution_count": 12,
   "id": "6b2a2532-2d8e-47a4-85ab-e59ad5dd1cdc",
   "metadata": {},
   "outputs": [],
   "source": [
    "#step 3 : Define feature and target\n",
    "#ML expect x to be 2D (n_samples × n_features).\n",
    "x = df[['Hours']]\n",
    "y = df['Marks']"
   ]
  },
  {
   "cell_type": "code",
   "execution_count": 25,
   "id": "f8947bc5-131f-413c-aa9f-d3f3107c79c4",
   "metadata": {},
   "outputs": [
    {
     "name": "stdout",
     "output_type": "stream",
     "text": [
      "Training samples: 6\n",
      "Testing samples: 2\n"
     ]
    }
   ],
   "source": [
    "#Step 4 : Split Data into Train & Test Sets\n",
    "#x_train - Model learns patterns from this\n",
    "#x_test - Model makes predictions on this\n",
    "#y_train - Model sees actual results\n",
    "#y_test - Used to check prediction accuracy\n",
    "x_train, x_test, y_train, y_test = train_test_split(x,y)\n",
    "print(\"Training samples:\",len(x_train))\n",
    "print(\"Testing samples:\",len(x_test))"
   ]
  },
  {
   "cell_type": "code",
   "execution_count": 15,
   "id": "c36305c0-34db-417e-afcb-217f03b393d9",
   "metadata": {},
   "outputs": [
    {
     "name": "stdout",
     "output_type": "stream",
     "text": [
      "Model trained sucessfully\n"
     ]
    }
   ],
   "source": [
    "#Step 5 : Create the model and train the model\n",
    "model = LinearRegression()\n",
    "model.fit(x_train,y_train)\n",
    "print(\"Model trained sucessfully\")"
   ]
  },
  {
   "cell_type": "code",
   "execution_count": 27,
   "id": "5ff12578-f258-44c9-87d5-15ce8e38f84e",
   "metadata": {},
   "outputs": [
    {
     "name": "stdout",
     "output_type": "stream",
     "text": [
      "[50 45]\n",
      "Actual: [np.int64(50), np.int64(45)]\n",
      "Predicted:  [np.float64(49.199999999999996), np.float64(41.75)]\n"
     ]
    }
   ],
   "source": [
    "#Prediction\n",
    "y_pred = model.predict(x_test)\n",
    "print(y_test.values)\n",
    "print(\"Actual:\",list(y_test.values))\n",
    "print(\"Predicted: \", list(y_pred))"
   ]
  }
 ],
 "metadata": {
  "kernelspec": {
   "display_name": "Python [conda env:base] *",
   "language": "python",
   "name": "conda-base-py"
  },
  "language_info": {
   "codemirror_mode": {
    "name": "ipython",
    "version": 3
   },
   "file_extension": ".py",
   "mimetype": "text/x-python",
   "name": "python",
   "nbconvert_exporter": "python",
   "pygments_lexer": "ipython3",
   "version": "3.13.5"
  }
 },
 "nbformat": 4,
 "nbformat_minor": 5
}
