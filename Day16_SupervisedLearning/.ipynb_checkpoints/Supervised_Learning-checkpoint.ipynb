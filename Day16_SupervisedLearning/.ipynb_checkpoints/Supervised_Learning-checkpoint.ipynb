{
 "cells": [
  {
   "cell_type": "markdown",
   "id": "448060a1-39e2-4386-a7aa-565b7bf1f5f7",
   "metadata": {},
   "source": [
    "#### Algorithm\n",
    "\n",
    "- Linear Regression\n",
    "- Logistic Regressino\n",
    "- KNN\n",
    "- SVM\n",
    "- Decision Tress"
   ]
  },
  {
   "cell_type": "markdown",
   "id": "4e8ef1da-d40f-4721-b021-78f7b3e0fc49",
   "metadata": {},
   "source": [
    "#### have x and y input. "
   ]
  },
  {
   "cell_type": "markdown",
   "id": "84dd3455-6d40-429c-aca7-6847c14d26f3",
   "metadata": {},
   "source": [
    "#### model.predict()"
   ]
  }
 ],
 "metadata": {
  "kernelspec": {
   "display_name": "Python [conda env:base] *",
   "language": "python",
   "name": "conda-base-py"
  },
  "language_info": {
   "codemirror_mode": {
    "name": "ipython",
    "version": 3
   },
   "file_extension": ".py",
   "mimetype": "text/x-python",
   "name": "python",
   "nbconvert_exporter": "python",
   "pygments_lexer": "ipython3",
   "version": "3.13.5"
  }
 },
 "nbformat": 4,
 "nbformat_minor": 5
}
