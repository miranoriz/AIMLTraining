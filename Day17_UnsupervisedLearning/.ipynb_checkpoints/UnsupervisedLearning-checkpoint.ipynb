{
 "cells": [
  {
   "cell_type": "markdown",
   "id": "60580b05-49a2-4de4-ba90-59931be07608",
   "metadata": {},
   "source": [
    "#### Algorithm\n",
    "- K-Means Clustering\n",
    "- Hierarchial Clustering\n",
    "- Principal Component Analysis\n",
    "- Association Rules"
   ]
  },
  {
   "cell_type": "markdown",
   "id": "4acccc8c-51b5-4100-a3bc-79660188cd7b",
   "metadata": {},
   "source": [
    "- Cluster input and reassign data"
   ]
  },
  {
   "cell_type": "markdown",
   "id": "35bd1260-16cc-4cac-825f-f34f1e99b4ef",
   "metadata": {},
   "source": [
    "- only have x axis"
   ]
  }
 ],
 "metadata": {
  "kernelspec": {
   "display_name": "Python [conda env:base] *",
   "language": "python",
   "name": "conda-base-py"
  },
  "language_info": {
   "codemirror_mode": {
    "name": "ipython",
    "version": 3
   },
   "file_extension": ".py",
   "mimetype": "text/x-python",
   "name": "python",
   "nbconvert_exporter": "python",
   "pygments_lexer": "ipython3",
   "version": "3.13.5"
  }
 },
 "nbformat": 4,
 "nbformat_minor": 5
}
