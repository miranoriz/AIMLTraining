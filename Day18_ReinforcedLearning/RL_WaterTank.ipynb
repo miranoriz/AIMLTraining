{
 "cells": [
  {
   "cell_type": "code",
   "execution_count": 1,
   "id": "419913dc-e59b-4f12-817c-a6dbf77bb9e9",
   "metadata": {},
   "outputs": [],
   "source": [
    "import numpy as np\n",
    "import random"
   ]
  },
  {
   "cell_type": "code",
   "execution_count": 2,
   "id": "00c6d9d9-8c96-4f7e-ba06-203239deea87",
   "metadata": {},
   "outputs": [
    {
     "name": "stdout",
     "output_type": "stream",
     "text": [
      "States: [  0  10  20  30  40  50  60  70  80  90 100]\n",
      "Actions: ['FILL', 'STOP']\n"
     ]
    }
   ],
   "source": [
    "states = np.arange(0, 101, 10)   # 0, 10,20,30,40..........100\n",
    "actions = ['FILL', 'STOP']       #Fill or Stop\n",
    "print('States:', states)\n",
    "print('Actions:', actions)"
   ]
  },
  {
   "cell_type": "code",
   "execution_count": 3,
   "id": "e58e7d7c-0456-4baa-a27c-dfa6475304e1",
   "metadata": {},
   "outputs": [
    {
     "name": "stdout",
     "output_type": "stream",
     "text": [
      "Q-table shape: (11, 2)\n"
     ]
    }
   ],
   "source": [
    "#create Q table and set alpha, gamma, epsilon, episodes\n",
    "#Q Table: [s,a]\n",
    "Q = np.zeros((len(states), len(actions)))\n",
    "\n",
    "alpha = 0.1     # Learning rate\n",
    "gamma = 0.9     # Discount factor\n",
    "epsilon = 0.2   # Exploration rate\n",
    "episodes = 300  # Training runs\n",
    "\n",
    "print('Q-table shape:', Q.shape)"
   ]
  },
  {
   "cell_type": "code",
   "execution_count": 8,
   "id": "4bfa97dd-0d70-4c06-80b6-d1312789e663",
   "metadata": {},
   "outputs": [
    {
     "name": "stdout",
     "output_type": "stream",
     "text": [
      "Reward Example (level=60, FILL): 10\n"
     ]
    }
   ],
   "source": [
    "#Write Reward , Penality function\n",
    "def get_reward(level, action):\n",
    "    if 40 <= level <= 70:\n",
    "        reward = 10  # ideal range\n",
    "    else:\n",
    "        reward = -10  # too low/high\n",
    "    if action == 'FILL' and level >= 90:\n",
    "        reward -= 10  # overflow risk\n",
    "    if action == 'STOP' and level <= 10:\n",
    "        reward -= 10  # empty risk\n",
    "    return reward\n",
    "\n",
    "print('Reward Example (level=60, FILL):', get_reward(60, 'FILL'))"
   ]
  },
  {
   "cell_type": "code",
   "execution_count": 5,
   "id": "dc15ed2e-1356-440e-ae6e-7bd9551e75a8",
   "metadata": {},
   "outputs": [
    {
     "name": "stdout",
     "output_type": "stream",
     "text": [
      "Next Level Example: 65\n"
     ]
    }
   ],
   "source": [
    "def next_level(level, action):\n",
    "    if action == 'FILL':\n",
    "        level += random.choice([5, 10, 15])\n",
    "    else:\n",
    "        level -= random.choice([5, 10, 15])\n",
    "    return int(np.clip(level, 0, 100))\n",
    "\n",
    "print('Next Level Example:', next_level(50, 'FILL'))"
   ]
  },
  {
   "cell_type": "code",
   "execution_count": 6,
   "id": "8b0eadbd-f144-4eb5-8491-12aca097b1a7",
   "metadata": {},
   "outputs": [
    {
     "name": "stdout",
     "output_type": "stream",
     "text": [
      "Training Completed\n"
     ]
    }
   ],
   "source": [
    "for ep in range(episodes):\n",
    "    level = random.choice(states)\n",
    "    for _ in range(15):  # steps per episode\n",
    "        if random.uniform(0, 1) < epsilon:\n",
    "            action = random.choice(actions)\n",
    "        else:\n",
    "            action = actions[np.argmax(Q[level // 10])]\n",
    "\n",
    "        next_state = next_level(level, action)\n",
    "        reward = get_reward(next_state, action)\n",
    "\n",
    "        a = actions.index(action)\n",
    "        best_next = np.max(Q[next_state // 10])\n",
    "        Q[level // 10, a] += alpha * (reward + gamma * best_next - Q[level // 10, a])\n",
    "print('Training Completed')"
   ]
  },
  {
   "cell_type": "code",
   "execution_count": 7,
   "id": "ad6bbb2b-11f9-4223-a8d7-83ee0713a2b2",
   "metadata": {},
   "outputs": [
    {
     "name": "stdin",
     "output_type": "stream",
     "text": [
      "Enter starting water level (0–100):  50\n"
     ]
    },
    {
     "name": "stdout",
     "output_type": "stream",
     "text": [
      "\n",
      "Starting with level: 50%\n",
      "Simulating for 10 steps:\n",
      "\n",
      "Step 1: Level=50% → Action=FILL\n",
      "Step 2: Level=65% → Action=STOP\n",
      "Step 3: Level=60% → Action=STOP\n",
      "Step 4: Level=50% → Action=FILL\n",
      "Step 5: Level=60% → Action=STOP\n",
      "Step 6: Level=45% → Action=FILL\n",
      "Step 7: Level=55% → Action=FILL\n",
      "Step 8: Level=65% → Action=STOP\n",
      "Step 9: Level=50% → Action=FILL\n",
      "Step 10: Level=55% → Action=FILL\n",
      "\\Simulation complete. Water tank control finished.\n"
     ]
    }
   ],
   "source": [
    "try:\n",
    "    level = int(input('Enter starting water level (0–100): '))\n",
    "    if level < 0 or level > 100:\n",
    "        raise ValueError('Water level out of range!')\n",
    "except ValueError as e:\n",
    "    print(e)\n",
    "    level = 50\n",
    "    print('Defaut level set to 50%.')\n",
    "\n",
    "print(f'\\nStarting with level: {level}%')\n",
    "print('Simulating for 10 steps:\\n')\n",
    "\n",
    "for step in range(10):\n",
    "    action = actions[np.argmax(Q[level // 10])]\n",
    "    print(f'Step {step+1}: Level={level}% → Action={action}')\n",
    "    level = next_level(level, action)\n",
    "\n",
    "print('\\nSimulation complete. Water tank control finished.')"
   ]
  }
 ],
 "metadata": {
  "kernelspec": {
   "display_name": "Python [conda env:base] *",
   "language": "python",
   "name": "conda-base-py"
  },
  "language_info": {
   "codemirror_mode": {
    "name": "ipython",
    "version": 3
   },
   "file_extension": ".py",
   "mimetype": "text/x-python",
   "name": "python",
   "nbconvert_exporter": "python",
   "pygments_lexer": "ipython3",
   "version": "3.13.5"
  }
 },
 "nbformat": 4,
 "nbformat_minor": 5
}
