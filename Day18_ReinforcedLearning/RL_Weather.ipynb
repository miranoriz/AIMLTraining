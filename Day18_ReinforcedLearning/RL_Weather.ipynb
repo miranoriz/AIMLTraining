{
 "cells": [
  {
   "cell_type": "code",
   "execution_count": 1,
   "id": "01253764-44ec-4e46-80fc-954a7263eace",
   "metadata": {},
   "outputs": [],
   "source": [
    "import numpy as np\n",
    "import random"
   ]
  },
  {
   "cell_type": "code",
   "execution_count": 2,
   "id": "e832ae69-c84b-49ac-90fa-b67245865918",
   "metadata": {},
   "outputs": [
    {
     "name": "stdout",
     "output_type": "stream",
     "text": [
      "2\n"
     ]
    }
   ],
   "source": [
    "print(random.choice([0,1,2]))"
   ]
  },
  {
   "cell_type": "code",
   "execution_count": 3,
   "id": "70c0783a-a998-4962-8a8f-1890b552ebff",
   "metadata": {},
   "outputs": [],
   "source": [
    "# Step 1 : Find out step and actions\n",
    "\n",
    "states = np.arange(16,31)\n",
    "actions = ['ON','OFF']"
   ]
  },
  {
   "cell_type": "code",
   "execution_count": 4,
   "id": "19e0e1c7-5748-4eb8-8076-d9f1ac1b075c",
   "metadata": {},
   "outputs": [
    {
     "name": "stdout",
     "output_type": "stream",
     "text": [
      "[16 17 18 19 20 21 22 23 24 25 26 27 28 29 30]\n",
      "['ON', 'OFF']\n"
     ]
    }
   ],
   "source": [
    "print(states)\n",
    "print(actions)"
   ]
  },
  {
   "cell_type": "code",
   "execution_count": 5,
   "id": "451a15c5-0801-4853-8db0-3efef157b192",
   "metadata": {},
   "outputs": [],
   "source": [
    "# Step 2 : Create QTable, set alpha,gama,epsilon,episodes\n",
    "# QTable is [states,actions]\n",
    "#alpha (0-1)\n",
    "#gama :1\n",
    "#epsilon = probability\n",
    "#episodes = independent training runs()\n",
    "\n",
    "Q =np.zeros((len(states),len(actions)))\n",
    "alpha =0.1\n",
    "gama = 0.9\n",
    "epsilon = 0.2\n",
    "episodes = 300"
   ]
  },
  {
   "cell_type": "code",
   "execution_count": 6,
   "id": "e0f09b55-7d27-4a8f-9206-8f605830661e",
   "metadata": {},
   "outputs": [],
   "source": [
    "# Step 3 : Write Reward Function\n",
    "\n",
    "def get_reward(temp,action):\n",
    "    if 20 <= temp <= 24:\n",
    "        reward = 10 #comfortable\n",
    "    else:\n",
    "        reward = -5 #uncomfortable\n",
    "    if action == 'ON':\n",
    "        reward = -2 #cost of energy\n",
    "    return reward"
   ]
  },
  {
   "cell_type": "code",
   "execution_count": 7,
   "id": "9de62fa0-7a56-4bf5-a616-bb89401bdb6f",
   "metadata": {},
   "outputs": [],
   "source": [
    "# Step 4 : Environment of Dynamic Change (e.g. Temperature Changes)\n",
    "\n",
    "def next_temp(temp,action):\n",
    "    if action == 'ON':\n",
    "        temp -=random.choice([1,2])\n",
    "    else:\n",
    "       temp +=random.choice([0,1,2]) \n",
    "    return int(np.clip(temp,16,30))"
   ]
  },
  {
   "cell_type": "code",
   "execution_count": 8,
   "id": "79d5ff9f-0c4a-4a6b-bac2-d6c02278ee7b",
   "metadata": {},
   "outputs": [
    {
     "name": "stdout",
     "output_type": "stream",
     "text": [
      "Training completed\n"
     ]
    }
   ],
   "source": [
    "# Step 5 : Training Loop\n",
    "\n",
    "for ep in range(episodes):\n",
    "    temp = random.choice(states)\n",
    "    done = False\n",
    "    for _ in range(20): #Limit steps per episode\n",
    "        #choose action (epsilon - greedy)\n",
    "        if random.uniform(0,1) < epsilon :\n",
    "            action = random.choice(actions)\n",
    "        else:\n",
    "            action = actions[np.argmax(Q[temp-16])]\n",
    "\n",
    "        next_state = next_temp(temp,action)\n",
    "        reward = get_reward(next_state, action)\n",
    "        a = actions.index(action)\n",
    "        best_next = np.argmax(Q[next_state-16])\n",
    "        Q[temp-16,a] += alpha * (reward + gama * best_next -  Q[temp-16,a] )\n",
    "        temp = next_state\n",
    "print(\"Training completed\")\n",
    "        "
   ]
  },
  {
   "cell_type": "code",
   "execution_count": 9,
   "id": "3d8651f6-8075-4a03-9d8c-a34dc774577f",
   "metadata": {},
   "outputs": [
    {
     "name": "stdout",
     "output_type": "stream",
     "text": [
      "Step 1: Temp=28°C -> Action=ON\n",
      "Step 2: Temp=27°C -> Action=ON\n",
      "Step 3: Temp=26°C -> Action=ON\n",
      "Step 4: Temp=24°C -> Action=ON\n",
      "Step 5: Temp=22°C -> Action=OFF\n",
      "Step 6: Temp=23°C -> Action=OFF\n",
      "Step 7: Temp=24°C -> Action=ON\n",
      "Step 8: Temp=23°C -> Action=OFF\n",
      "Step 9: Temp=25°C -> Action=ON\n",
      "Step 10: Temp=23°C -> Action=OFF\n"
     ]
    }
   ],
   "source": [
    "# Step 6 : Test Learn Policy\n",
    "\n",
    "temp = 28\n",
    "for step in range(10):\n",
    "    action = actions[np.argmax(Q[temp-16])]\n",
    "    print(f'Step {step+1}: Temp={temp}°C -> Action={action}')\n",
    "    temp = next_temp(temp, action)\n"
   ]
  },
  {
   "cell_type": "code",
   "execution_count": 16,
   "id": "8d13cd28-a1ce-4bf7-ad66-ebee79d4d078",
   "metadata": {},
   "outputs": [
    {
     "name": "stdin",
     "output_type": "stream",
     "text": [
      "Enter Starting Room Temp (16-30) 30\n"
     ]
    },
    {
     "name": "stdout",
     "output_type": "stream",
     "text": [
      "\n",
      " Starting temp 30 celcius\n",
      "Step 1: Temp=30°C -> Action=ON\n",
      "Step 2: Temp=28°C -> Action=ON\n",
      "Step 3: Temp=26°C -> Action=ON\n",
      "Step 4: Temp=25°C -> Action=ON\n",
      "Step 5: Temp=24°C -> Action=ON\n",
      "Step 6: Temp=23°C -> Action=OFF\n",
      "Step 7: Temp=25°C -> Action=ON\n",
      "Step 8: Temp=23°C -> Action=OFF\n",
      "Step 9: Temp=24°C -> Action=ON\n",
      "Step 10: Temp=22°C -> Action=OFF\n",
      "Done\n"
     ]
    }
   ],
   "source": [
    "try:\n",
    "    temp = int(input('Enter Starting Room Temp (16-30)'))\n",
    "    if temp<16 or temp>30:\n",
    "        raise ValueError('Temp out of range')\n",
    "except ValueError as ve:\n",
    "    print(ve)\n",
    "    temp=25\n",
    "    print('Set to default 25 Celcius')\n",
    "print(f'\\n Starting temp {temp} celcius')\n",
    "\n",
    "for step in range(10):\n",
    "    action = actions[np.argmax(Q[temp-16])]\n",
    "    print(f'Step {step+1}: Temp={temp}°C -> Action={action}')\n",
    "    temp = next_temp(temp, action)\n",
    "print(\"Done\")\n",
    "    \n"
   ]
  }
 ],
 "metadata": {
  "kernelspec": {
   "display_name": "Python [conda env:base] *",
   "language": "python",
   "name": "conda-base-py"
  },
  "language_info": {
   "codemirror_mode": {
    "name": "ipython",
    "version": 3
   },
   "file_extension": ".py",
   "mimetype": "text/x-python",
   "name": "python",
   "nbconvert_exporter": "python",
   "pygments_lexer": "ipython3",
   "version": "3.13.5"
  }
 },
 "nbformat": 4,
 "nbformat_minor": 5
}
