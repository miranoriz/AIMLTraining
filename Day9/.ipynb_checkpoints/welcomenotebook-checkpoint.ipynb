{
 "cells": [
  {
   "cell_type": "markdown",
   "id": "fb7e11e3-e73e-404c-8850-5ce6ce12257c",
   "metadata": {
    "jp-MarkdownHeadingCollapsed": true
   },
   "source": [
    "#First Jupyter Notebook "
   ]
  },
  {
   "cell_type": "code",
   "execution_count": 9,
   "id": "e3192246-5976-4b33-8fe7-bf1a6ebfd1bc",
   "metadata": {},
   "outputs": [
    {
     "name": "stdout",
     "output_type": "stream",
     "text": [
      "Welcome to Jupyter notebook\n"
     ]
    }
   ],
   "source": [
    "print(\"Welcome to Jupyter notebook\")"
   ]
  },
  {
   "cell_type": "code",
   "execution_count": 4,
   "id": "620ff248-7059-4bca-8fe8-e27cf29722cf",
   "metadata": {},
   "outputs": [
    {
     "name": "stdout",
     "output_type": "stream",
     "text": [
      "1\n",
      "2\n",
      "3\n",
      "4\n"
     ]
    }
   ],
   "source": [
    "#we are going to write a collection of numbers\n",
    "\n",
    "numbers = (1,2,3,4)\n",
    "for i in numbers:\n",
    "    print(i)"
   ]
  },
  {
   "cell_type": "code",
   "execution_count": null,
   "id": "2c52eed8-7e9e-4934-bd55-8e0d4eceb649",
   "metadata": {},
   "outputs": [],
   "source": []
  }
 ],
 "metadata": {
  "kernelspec": {
   "display_name": "Python [conda env:base] *",
   "language": "python",
   "name": "conda-base-py"
  },
  "language_info": {
   "codemirror_mode": {
    "name": "ipython",
    "version": 3
   },
   "file_extension": ".py",
   "mimetype": "text/x-python",
   "name": "python",
   "nbconvert_exporter": "python",
   "pygments_lexer": "ipython3",
   "version": "3.13.5"
  }
 },
 "nbformat": 4,
 "nbformat_minor": 5
}
