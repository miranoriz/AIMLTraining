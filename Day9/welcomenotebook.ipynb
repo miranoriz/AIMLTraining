{
 "cells": [
  {
   "cell_type": "markdown",
   "id": "fb7e11e3-e73e-404c-8850-5ce6ce12257c",
   "metadata": {
    "jp-MarkdownHeadingCollapsed": true
   },
   "source": [
    "#Welcome Jupyter Notebook \n"
   ]
  },
  {
   "cell_type": "markdown",
   "id": "58cd328a-6f11-43de-a69a-d8240e57e9fd",
   "metadata": {},
   "source": [
    "#welcome to jupyter notebook"
   ]
  },
  {
   "cell_type": "code",
   "execution_count": 11,
   "id": "4d1eb028-101f-4e52-8c0f-7519d8f966c1",
   "metadata": {},
   "outputs": [
    {
     "name": "stdout",
     "output_type": "stream",
     "text": [
      "welcome\n"
     ]
    }
   ],
   "source": [
    "print(\"welcome\")\n",
    "      "
   ]
  },
  {
   "cell_type": "code",
   "execution_count": 12,
   "id": "7b4ff740-fd52-4b5d-a640-bdc1a73cdebf",
   "metadata": {},
   "outputs": [
    {
     "name": "stdout",
     "output_type": "stream",
     "text": [
      "1 2 3 4 5 6 7 8 9 10 11 12 13 14 15 16 17 18 19 20 21 22 23 24 25 26 27 28 29 30 31 32 33 34 35 36 37 38 39 40 41 42 43 44 45 46 47 48 49 50 51 52 53 54 55 56 57 58 59 60 61 62 63 64 65 66 67 68 69 70 71 72 73 74 75 76 77 78 79 80 81 82 83 84 85 86 87 88 89 90 91 92 93 94 95 96 97 98 99 "
     ]
    }
   ],
   "source": [
    "for i in range (1,100):\n",
    "    print (i,end=\" \")"
   ]
  },
  {
   "cell_type": "markdown",
   "id": "e70dd9ce-6d96-4359-a359-7cd720751e35",
   "metadata": {},
   "source": [
    "#End of notebook"
   ]
  },
  {
   "cell_type": "code",
   "execution_count": null,
   "id": "b90a81dc-4c4e-4658-a2a1-3e8c8d3ef5e5",
   "metadata": {},
   "outputs": [],
   "source": []
  }
 ],
 "metadata": {
  "kernelspec": {
   "display_name": "Python [conda env:base] *",
   "language": "python",
   "name": "conda-base-py"
  },
  "language_info": {
   "codemirror_mode": {
    "name": "ipython",
    "version": 3
   },
   "file_extension": ".py",
   "mimetype": "text/x-python",
   "name": "python",
   "nbconvert_exporter": "python",
   "pygments_lexer": "ipython3",
   "version": "3.13.5"
  }
 },
 "nbformat": 4,
 "nbformat_minor": 5
}
