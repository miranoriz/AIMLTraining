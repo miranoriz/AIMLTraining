{
 "cells": [
  {
   "cell_type": "code",
   "execution_count": 1,
   "id": "2d79446d-bdb0-447c-892c-014b98e8c1f9",
   "metadata": {},
   "outputs": [
    {
     "name": "stdout",
     "output_type": "stream",
     "text": [
      "Sucessfully impoerting NumPy and random libraries\n"
     ]
    }
   ],
   "source": [
    "import numpy as np\n",
    "import random\n",
    "print(\"Sucessfully impoerting NumPy and random libraries\")"
   ]
  },
  {
   "cell_type": "code",
   "execution_count": 2,
   "id": "474f3ff9-b696-4a34-864a-e3227d495bd8",
   "metadata": {},
   "outputs": [
    {
     "name": "stdout",
     "output_type": "stream",
     "text": [
      "0\n"
     ]
    }
   ],
   "source": [
    "print(random.choice([0,1,2]))"
   ]
  },
  {
   "cell_type": "code",
   "execution_count": 3,
   "id": "cf8c92f3-7692-42f4-87e4-c5e18481399b",
   "metadata": {},
   "outputs": [
    {
     "name": "stdout",
     "output_type": "stream",
     "text": [
      "[0 1 2 3 4]\n",
      "['GREEN', 'RED']\n"
     ]
    }
   ],
   "source": [
    "states = np.arange(5)\n",
    "actions = ['GREEN','RED']\n",
    "print(states)\n",
    "print(actions)"
   ]
  },
  {
   "cell_type": "code",
   "execution_count": 4,
   "id": "3984d0ce-203c-4163-b091-093e30b7a36d",
   "metadata": {},
   "outputs": [],
   "source": [
    "Q =np.zeros((len(states),len(actions)))\n",
    "alpha =0.1 # Learning rate\n",
    "gama = 0.9 # Discount factor\n",
    "epsilon = 0.2 # Exploration rate\n",
    "episodes = 300 # Training runs"
   ]
  },
  {
   "cell_type": "code",
   "execution_count": 5,
   "id": "b5c63d90-01cf-4030-b55d-15e395196f75",
   "metadata": {},
   "outputs": [
    {
     "name": "stdout",
     "output_type": "stream",
     "text": [
      "Reward Example (state=3, red): -10\n"
     ]
    }
   ],
   "source": [
    "# 0 = Empty, 1 = Light, 2 = Moderate, 3 = Heavy, 4 = Very Heavy\n",
    "\n",
    "def get_reward(states,action):\n",
    "    if 3 <= states < 5:  \n",
    "        if action == 'GREEN':\n",
    "            reward = 10 # clears congestion\n",
    "        else:\n",
    "            reward = -10 #create jams\n",
    "    elif states == 0:  \n",
    "        if action == 'RED':\n",
    "            reward =  5 # saves energy\n",
    "        else:\n",
    "            reward = -5 # wastes power\n",
    "    else:\n",
    "        reward = 1 \n",
    "    return reward\n",
    "\n",
    "print('Reward Example (state=3, red):', get_reward(3, 'RED'))"
   ]
  },
  {
   "cell_type": "code",
   "execution_count": 6,
   "id": "5fba473c-4fa5-441f-8291-06af64751710",
   "metadata": {},
   "outputs": [
    {
     "name": "stdout",
     "output_type": "stream",
     "text": [
      "Current traffic: 0 → Next traffic: 4\n"
     ]
    }
   ],
   "source": [
    "def next_traffic(current, action):\n",
    "     if action == 'GREEN':\n",
    "        current += random.choice([-1, 0, 1])\n",
    "     else:\n",
    "         current -= random.choice([-1, 0, 1])\n",
    "     return int(np.clip(current, 0, 4))\n",
    "\n",
    "current = np.random.randint(0, 5)\n",
    "print(f\"Current traffic: {current} → Next traffic: {next_traffic(50, 'GREEN')}\")"
   ]
  },
  {
   "cell_type": "code",
   "execution_count": 7,
   "id": "08dd8c73-4711-4c29-bc18-3b58c5aa7a76",
   "metadata": {},
   "outputs": [
    {
     "name": "stdout",
     "output_type": "stream",
     "text": [
      "Training Completed\n"
     ]
    }
   ],
   "source": [
    "for ep in range(episodes):\n",
    "    traffic = random.choice(states)\n",
    "    for _ in range(15): # steps per episode\n",
    "        if random.uniform(0, 1) < epsilon:\n",
    "            action = random.choice(actions)\n",
    "        else:\n",
    "            action = actions[np.argmax(Q[traffic])]\n",
    " \n",
    "        next_state = next_traffic(traffic, action)\n",
    "        reward = get_reward(next_state, action)\n",
    " \n",
    "        a = actions.index(action)\n",
    "        best_next = np.max(Q[next_state])\n",
    "        Q[traffic, a] += alpha * (reward + gama * best_next - Q[traffic, a])\n",
    "print(\"Training Completed\")"
   ]
  },
  {
   "cell_type": "code",
   "execution_count": 28,
   "id": "f8a68328-8290-4008-808f-9dc6d7f1be82",
   "metadata": {},
   "outputs": [
    {
     "name": "stdin",
     "output_type": "stream",
     "text": [
      "Enter starting traffic state (0–4):  1\n"
     ]
    },
    {
     "name": "stdout",
     "output_type": "stream",
     "text": [
      "\n",
      "Starting with state: 1\n",
      "Simulating for 10 steps:\n",
      "\n",
      "Step 1: State=1 -> Action=RED\n",
      "Step 2: State=1 -> Action=RED\n",
      "Step 3: State=0 -> Action=RED\n",
      "Step 4: State=0 -> Action=RED\n",
      "Step 5: State=1 -> Action=RED\n",
      "Step 6: State=2 -> Action=GREEN\n",
      "Step 7: State=1 -> Action=RED\n",
      "Step 8: State=0 -> Action=RED\n",
      "Step 9: State=0 -> Action=RED\n",
      "Step 10: State=1 -> Action=RED\n",
      "\n",
      "Simulation complete. Traffic Control finished.\n"
     ]
    }
   ],
   "source": [
    "try:\n",
    "    state = int(input('Enter starting traffic state (0–4): '))\n",
    "    if state < 0 or state > 4:\n",
    "        raise ValueError('Traffic level out of range!')\n",
    "except ValueError as e:\n",
    "    print(e)\n",
    "    state = 2\n",
    "    print('Defaut level set to 2')\n",
    "\n",
    "print(f'\\nStarting with state: {state}')\n",
    "print('Simulating for 10 steps:\\n')\n",
    "\n",
    "for step in range(10):\n",
    "    action = actions[np.argmax(Q[state])]\n",
    "    print(f'Step {step+1}: State={state} -> Action={action}')\n",
    "    state= next_traffic(state, action)\n",
    "\n",
    "print('\\nSimulation complete. Traffic Control finished.')"
   ]
  }
 ],
 "metadata": {
  "kernelspec": {
   "display_name": "Python [conda env:base] *",
   "language": "python",
   "name": "conda-base-py"
  },
  "language_info": {
   "codemirror_mode": {
    "name": "ipython",
    "version": 3
   },
   "file_extension": ".py",
   "mimetype": "text/x-python",
   "name": "python",
   "nbconvert_exporter": "python",
   "pygments_lexer": "ipython3",
   "version": "3.13.5"
  }
 },
 "nbformat": 4,
 "nbformat_minor": 5
}
